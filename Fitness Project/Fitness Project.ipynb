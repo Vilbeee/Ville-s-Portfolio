{
 "cells": [
  {
   "cell_type": "markdown",
   "metadata": {},
   "source": [
    "# Python Project"
   ]
  },
  {
   "cell_type": "markdown",
   "metadata": {},
   "source": [
    "## Project description\n",
    "\n",
    "In this project I will be using Python to analyzing a questionnaire on the topic of fitness wearable usage and its impacts on lifestyle and overall health. The data was produced from Kaggle. First I will be bringing the data into Python from a CSV file. I will then be cleaning the data and visualizing it using likert scale plots and bar charts. I will also be analyzing the data and commenting on the results at the end. \n",
    "\n",
    "I chose this topic due to my personal interest in fitness. I often think of ways to motivate myself and other people on their fitness journeys. This is a small dataset, but I believe we can get a good idea of what benefits a product such as a fitness wearable can bring into one's life."
   ]
  },
  {
   "cell_type": "markdown",
   "metadata": {},
   "source": [
    "## Bring in data"
   ]
  },
  {
   "cell_type": "markdown",
   "metadata": {},
   "source": [
    "#### Import libraries"
   ]
  },
  {
   "cell_type": "code",
   "execution_count": 58,
   "metadata": {},
   "outputs": [],
   "source": [
    "import pandas as pd\n",
    "import numpy as np\n",
    "from IPython.display import display, HTML\n",
    "import plotly.express as px\n",
    "import plot_likert"
   ]
  },
  {
   "cell_type": "markdown",
   "metadata": {},
   "source": [
    "#### Read data"
   ]
  },
  {
   "cell_type": "code",
   "execution_count": 59,
   "metadata": {},
   "outputs": [],
   "source": [
    "df = pd.read_csv(r'C:\\Users\\Ville\\Documents\\GitHub\\Ville-s-Portfolio\\Fitness Project\\Data\\Fitness.csv')"
   ]
  },
  {
   "cell_type": "markdown",
   "metadata": {},
   "source": [
    "#### View data in a Table\n",
    "\n",
    "As we view the table, we can immediately see that the column names are too long and disrupt the viewing of the dataset. We should adjust the column names and shorten them."
   ]
  },
  {
   "cell_type": "code",
   "execution_count": 60,
   "metadata": {},
   "outputs": [
    {
     "data": {
      "text/html": [
       "<div>\n",
       "<style scoped>\n",
       "    .dataframe tbody tr th:only-of-type {\n",
       "        vertical-align: middle;\n",
       "    }\n",
       "\n",
       "    .dataframe tbody tr th {\n",
       "        vertical-align: top;\n",
       "    }\n",
       "\n",
       "    .dataframe thead th {\n",
       "        text-align: right;\n",
       "    }\n",
       "</style>\n",
       "<table border=\"1\" class=\"dataframe\">\n",
       "  <thead>\n",
       "    <tr style=\"text-align: right;\">\n",
       "      <th></th>\n",
       "      <th>Timestamp</th>\n",
       "      <th>What is your age?</th>\n",
       "      <th>What is your gender?</th>\n",
       "      <th>What is your highest level of education?</th>\n",
       "      <th>What is your current occupation?</th>\n",
       "      <th>How often do you exercise in a week?</th>\n",
       "      <th>How long have you been using a fitness wearable?</th>\n",
       "      <th>How frequently do you use your fitness wearable?</th>\n",
       "      <th>How often do you track fitness data using wearable?</th>\n",
       "      <th>How has the fitness wearable impacted your fitness routine?</th>\n",
       "      <th>...</th>\n",
       "      <th>How engaged do you feel with your fitness wearable?</th>\n",
       "      <th>Does using a fitness wearable make you feel more connected to the fitness community?</th>\n",
       "      <th>How has the fitness wearable helped you achieve your fitness goals?</th>\n",
       "      <th>How has the fitness wearable impacted your overall health?</th>\n",
       "      <th>Has the fitness wearable improved your sleep patterns?</th>\n",
       "      <th>Do you feel that the fitness wearable has improved your overall well-being?</th>\n",
       "      <th>Has using a fitness wearable influenced your decision? [To exercise more?]</th>\n",
       "      <th>Has using a fitness wearable influenced your decision? [To purchase other fitness-related products?]</th>\n",
       "      <th>Has using a fitness wearable influenced your decision? [To join a gym or fitness class?]</th>\n",
       "      <th>Has using a fitness wearable influenced your decision? [To change your diet?]</th>\n",
       "    </tr>\n",
       "  </thead>\n",
       "  <tbody>\n",
       "    <tr>\n",
       "      <th>0</th>\n",
       "      <td>2023/03/30 9:43:19 PM GMT+5:30</td>\n",
       "      <td>18-24</td>\n",
       "      <td>Male</td>\n",
       "      <td>Some college or associate degree</td>\n",
       "      <td>Student</td>\n",
       "      <td>5 or more times a week</td>\n",
       "      <td>Less than 6 months</td>\n",
       "      <td>Daily</td>\n",
       "      <td>Every day</td>\n",
       "      <td>Positively impacted my fitness routine</td>\n",
       "      <td>...</td>\n",
       "      <td>Very engaged</td>\n",
       "      <td>Agree</td>\n",
       "      <td>No impact on achieving my goals</td>\n",
       "      <td>No impact on my overall health</td>\n",
       "      <td>Agree</td>\n",
       "      <td>Neutral</td>\n",
       "      <td>Strongly agree</td>\n",
       "      <td>Neutral</td>\n",
       "      <td>Agree</td>\n",
       "      <td>Agree</td>\n",
       "    </tr>\n",
       "    <tr>\n",
       "      <th>1</th>\n",
       "      <td>2023/03/31 5:07:46 PM GMT+5:30</td>\n",
       "      <td>Under 18</td>\n",
       "      <td>Male</td>\n",
       "      <td>Bachelor's degree</td>\n",
       "      <td>Student</td>\n",
       "      <td>5 or more times a week</td>\n",
       "      <td>Less than 6 months</td>\n",
       "      <td>3-4 times a week</td>\n",
       "      <td>Once a week</td>\n",
       "      <td>Positively impacted my fitness routine</td>\n",
       "      <td>...</td>\n",
       "      <td>Somewhat engaged</td>\n",
       "      <td>Agree</td>\n",
       "      <td>Helped me achieve my goals somewhat more quickly</td>\n",
       "      <td>Improved my overall health somewhat</td>\n",
       "      <td>Agree</td>\n",
       "      <td>Strongly agree</td>\n",
       "      <td>Agree</td>\n",
       "      <td>Neutral</td>\n",
       "      <td>Neutral</td>\n",
       "      <td>Neutral</td>\n",
       "    </tr>\n",
       "    <tr>\n",
       "      <th>2</th>\n",
       "      <td>2023/03/31 7:44:46 PM GMT+5:30</td>\n",
       "      <td>18-24</td>\n",
       "      <td>Female</td>\n",
       "      <td>Bachelor's degree</td>\n",
       "      <td>Student</td>\n",
       "      <td>Less than once a week</td>\n",
       "      <td>Less than 6 months</td>\n",
       "      <td>Rarely</td>\n",
       "      <td>Rarely</td>\n",
       "      <td>Positively impacted my fitness routine</td>\n",
       "      <td>...</td>\n",
       "      <td>Not very engaged</td>\n",
       "      <td>Strongly agree</td>\n",
       "      <td>Helped me achieve my goals much more quickly</td>\n",
       "      <td>Improved my overall health significantly</td>\n",
       "      <td>Strongly agree</td>\n",
       "      <td>Strongly agree</td>\n",
       "      <td>Agree</td>\n",
       "      <td>Agree</td>\n",
       "      <td>Strongly agree</td>\n",
       "      <td>Agree</td>\n",
       "    </tr>\n",
       "    <tr>\n",
       "      <th>3</th>\n",
       "      <td>2023/03/31 9:36:07 PM GMT+5:30</td>\n",
       "      <td>25-34</td>\n",
       "      <td>Female</td>\n",
       "      <td>Some college or associate degree</td>\n",
       "      <td>Employed part-time</td>\n",
       "      <td>3-4 times a week</td>\n",
       "      <td>6-12 months</td>\n",
       "      <td>3-4 times a week</td>\n",
       "      <td>Every day</td>\n",
       "      <td>I don't know</td>\n",
       "      <td>...</td>\n",
       "      <td>Somewhat engaged</td>\n",
       "      <td>Strongly agree</td>\n",
       "      <td>Helped me achieve my goals somewhat more quickly</td>\n",
       "      <td>Improved my overall health somewhat</td>\n",
       "      <td>Agree</td>\n",
       "      <td>Strongly agree</td>\n",
       "      <td>Agree</td>\n",
       "      <td>Disagree</td>\n",
       "      <td>Neutral</td>\n",
       "      <td>Agree</td>\n",
       "    </tr>\n",
       "    <tr>\n",
       "      <th>4</th>\n",
       "      <td>2023/03/31 9:37:32 PM GMT+5:30</td>\n",
       "      <td>18-24</td>\n",
       "      <td>Male</td>\n",
       "      <td>Bachelor's degree</td>\n",
       "      <td>Student</td>\n",
       "      <td>1-2 times a week</td>\n",
       "      <td>Less than 6 months</td>\n",
       "      <td>Daily</td>\n",
       "      <td>Every other day</td>\n",
       "      <td>Positively impacted my fitness routine</td>\n",
       "      <td>...</td>\n",
       "      <td>Neutral</td>\n",
       "      <td>Agree</td>\n",
       "      <td>Helped me achieve my goals much more quickly</td>\n",
       "      <td>Improved my overall health significantly</td>\n",
       "      <td>Agree</td>\n",
       "      <td>Strongly agree</td>\n",
       "      <td>Agree</td>\n",
       "      <td>Neutral</td>\n",
       "      <td>Agree</td>\n",
       "      <td>Strongly agree</td>\n",
       "    </tr>\n",
       "  </tbody>\n",
       "</table>\n",
       "<p>5 rows × 22 columns</p>\n",
       "</div>"
      ],
      "text/plain": [
       "                        Timestamp What is your age? What is your gender?  \\\n",
       "0  2023/03/30 9:43:19 PM GMT+5:30             18-24                 Male   \n",
       "1  2023/03/31 5:07:46 PM GMT+5:30          Under 18                 Male   \n",
       "2  2023/03/31 7:44:46 PM GMT+5:30             18-24               Female   \n",
       "3  2023/03/31 9:36:07 PM GMT+5:30             25-34               Female   \n",
       "4  2023/03/31 9:37:32 PM GMT+5:30             18-24                 Male   \n",
       "\n",
       "  What is your highest level of education? What is your current occupation?  \\\n",
       "0         Some college or associate degree                          Student   \n",
       "1                        Bachelor's degree                          Student   \n",
       "2                        Bachelor's degree                          Student   \n",
       "3         Some college or associate degree               Employed part-time   \n",
       "4                        Bachelor's degree                          Student   \n",
       "\n",
       "  How often do you exercise in a week?  \\\n",
       "0               5 or more times a week   \n",
       "1               5 or more times a week   \n",
       "2                Less than once a week   \n",
       "3                     3-4 times a week   \n",
       "4                     1-2 times a week   \n",
       "\n",
       "  How long have you been using a fitness wearable?  \\\n",
       "0                               Less than 6 months   \n",
       "1                               Less than 6 months   \n",
       "2                               Less than 6 months   \n",
       "3                                      6-12 months   \n",
       "4                               Less than 6 months   \n",
       "\n",
       "  How frequently do you use your fitness wearable?  \\\n",
       "0                                            Daily   \n",
       "1                                 3-4 times a week   \n",
       "2                                           Rarely   \n",
       "3                                 3-4 times a week   \n",
       "4                                            Daily   \n",
       "\n",
       "  How often do you track fitness data using wearable?  \\\n",
       "0                                          Every day    \n",
       "1                                        Once a week    \n",
       "2                                             Rarely    \n",
       "3                                          Every day    \n",
       "4                                    Every other day    \n",
       "\n",
       "  How has the fitness wearable impacted your fitness routine?  ...  \\\n",
       "0             Positively impacted my fitness routine           ...   \n",
       "1             Positively impacted my fitness routine           ...   \n",
       "2             Positively impacted my fitness routine           ...   \n",
       "3                                       I don't know           ...   \n",
       "4             Positively impacted my fitness routine           ...   \n",
       "\n",
       "  How engaged do you feel with your fitness wearable?  \\\n",
       "0                                       Very engaged    \n",
       "1                                   Somewhat engaged    \n",
       "2                                   Not very engaged    \n",
       "3                                   Somewhat engaged    \n",
       "4                                            Neutral    \n",
       "\n",
       "  Does using a fitness wearable make you feel more connected to the fitness community?  \\\n",
       "0                                              Agree                                     \n",
       "1                                              Agree                                     \n",
       "2                                     Strongly agree                                     \n",
       "3                                     Strongly agree                                     \n",
       "4                                              Agree                                     \n",
       "\n",
       "  How has the fitness wearable helped you achieve your fitness goals?  \\\n",
       "0                    No impact on achieving my goals                    \n",
       "1   Helped me achieve my goals somewhat more quickly                    \n",
       "2       Helped me achieve my goals much more quickly                    \n",
       "3   Helped me achieve my goals somewhat more quickly                    \n",
       "4       Helped me achieve my goals much more quickly                    \n",
       "\n",
       "  How has the fitness wearable impacted your overall health?  \\\n",
       "0                     No impact on my overall health           \n",
       "1                Improved my overall health somewhat           \n",
       "2           Improved my overall health significantly           \n",
       "3                Improved my overall health somewhat           \n",
       "4           Improved my overall health significantly           \n",
       "\n",
       "  Has the fitness wearable improved your sleep patterns?  \\\n",
       "0                                              Agree       \n",
       "1                                              Agree       \n",
       "2                                     Strongly agree       \n",
       "3                                              Agree       \n",
       "4                                              Agree       \n",
       "\n",
       "  Do you feel that the fitness wearable has improved your overall well-being?  \\\n",
       "0                                            Neutral                            \n",
       "1                                     Strongly agree                            \n",
       "2                                     Strongly agree                            \n",
       "3                                     Strongly agree                            \n",
       "4                                     Strongly agree                            \n",
       "\n",
       "  Has using a fitness wearable influenced your decision? [To exercise more?]  \\\n",
       "0                                     Strongly agree                           \n",
       "1                                              Agree                           \n",
       "2                                              Agree                           \n",
       "3                                              Agree                           \n",
       "4                                              Agree                           \n",
       "\n",
       "  Has using a fitness wearable influenced your decision? [To purchase other fitness-related products?]  \\\n",
       "0                                            Neutral                                                     \n",
       "1                                            Neutral                                                     \n",
       "2                                              Agree                                                     \n",
       "3                                           Disagree                                                     \n",
       "4                                            Neutral                                                     \n",
       "\n",
       "  Has using a fitness wearable influenced your decision? [To join a gym or fitness class?]  \\\n",
       "0                                              Agree                                         \n",
       "1                                            Neutral                                         \n",
       "2                                     Strongly agree                                         \n",
       "3                                            Neutral                                         \n",
       "4                                              Agree                                         \n",
       "\n",
       "  Has using a fitness wearable influenced your decision? [To change your diet?]  \n",
       "0                                              Agree                             \n",
       "1                                            Neutral                             \n",
       "2                                              Agree                             \n",
       "3                                              Agree                             \n",
       "4                                     Strongly agree                             \n",
       "\n",
       "[5 rows x 22 columns]"
      ]
     },
     "execution_count": 60,
     "metadata": {},
     "output_type": "execute_result"
    }
   ],
   "source": [
    "df.head()"
   ]
  },
  {
   "cell_type": "markdown",
   "metadata": {},
   "source": [
    "## Data cleaning"
   ]
  },
  {
   "cell_type": "markdown",
   "metadata": {},
   "source": [
    "#### Print the column names\n",
    "As we cant see all of the column names in the table above, we can print them out for an easier time when shortening them."
   ]
  },
  {
   "cell_type": "code",
   "execution_count": 61,
   "metadata": {},
   "outputs": [
    {
     "name": "stdout",
     "output_type": "stream",
     "text": [
      "Index(['Timestamp', 'What is your age?', 'What is your gender?',\n",
      "       'What is your highest level of education?',\n",
      "       'What is your current occupation?',\n",
      "       'How often do you exercise in a week?',\n",
      "       'How long have you been using a fitness wearable?',\n",
      "       'How frequently do you use your fitness wearable?',\n",
      "       'How often do you track fitness data using wearable?',\n",
      "       'How has the fitness wearable impacted your fitness routine?',\n",
      "       'Has the fitness wearable helped you stay motivated to exercise?',\n",
      "       'Do you think that the fitness wearable has made exercising more enjoyable?',\n",
      "       'How engaged do you feel with your fitness wearable?',\n",
      "       'Does using a fitness wearable make you feel more connected to the fitness community?',\n",
      "       'How has the fitness wearable helped you achieve your fitness goals?',\n",
      "       'How has the fitness wearable impacted your overall health?',\n",
      "       'Has the fitness wearable improved your sleep patterns?',\n",
      "       'Do you feel that the fitness wearable has improved your overall well-being?',\n",
      "       'Has using a fitness wearable influenced your decision? [To exercise more?]',\n",
      "       'Has using a fitness wearable influenced your decision? [To purchase other fitness-related products?]',\n",
      "       'Has using a fitness wearable influenced your decision? [To join a gym or fitness class?]',\n",
      "       'Has using a fitness wearable influenced your decision? [To change your diet?]'],\n",
      "      dtype='object')\n"
     ]
    }
   ],
   "source": [
    "print(df.columns)"
   ]
  },
  {
   "cell_type": "markdown",
   "metadata": {},
   "source": [
    "#### Rename the columns\n",
    "\n",
    "I then proceeded to rename the columns. As there can be many columns and thinking of a proper name for all of them can take time, I asked ChatGPT for suggestion, which i then modified to my liking. While I do not have a massive amount of columns and I could have renamed all of them myself, using AI to your advantage can save a lot of time in the long run. It is still important to check the AI generated results."
   ]
  },
  {
   "cell_type": "code",
   "execution_count": 62,
   "metadata": {},
   "outputs": [],
   "source": [
    "df.rename(columns={\n",
    "    'Timestamp': 'Time',\n",
    "    'What is your age?': 'Age',\n",
    "    'What is your gender?': 'Gender',\n",
    "    'What is your highest level of education?': 'Education',\n",
    "    'What is your current occupation?': 'Occupation',\n",
    "    'How often do you exercise in a week?': 'Exercise Frequency',\n",
    "    'How long have you been using a fitness wearable?': 'Wearable Use Duration',\n",
    "    'How frequently do you use your fitness wearable?': 'Wearable Frequency',\n",
    "    'How often do you track fitness data using wearable?': 'Data Tracking Frequency',\n",
    "    'How has the fitness wearable impacted your fitness routine?': 'Routine Impact',\n",
    "    'Has the fitness wearable helped you stay motivated to exercise?': 'Motivation Impact',\n",
    "    'Do you think that the fitness wearable has made exercising more enjoyable?': 'Enjoyment Improvement',\n",
    "    'How engaged do you feel with your fitness wearable?': 'Engagement Level',\n",
    "    'Does using a fitness wearable make you feel more connected to the fitness community?': 'Community Improvement',\n",
    "    'How has the fitness wearable helped you achieve your fitness goals?': 'Goal Impact',\n",
    "    'How has the fitness wearable impacted your overall health?': 'Health Impact',\n",
    "    'Has the fitness wearable improved your sleep patterns?': 'Sleep Improvement',\n",
    "    'Do you feel that the fitness wearable has improved your overall well-being?': 'Well-being Improvement',\n",
    "    'Has using a fitness wearable influenced your decision? [To exercise more?]': 'Exercise Influence',\n",
    "    'Has using a fitness wearable influenced your decision? [To purchase other fitness-related products?]': 'Fitness Purchase Influence',\n",
    "    'Has using a fitness wearable influenced your decision? [To join a gym or fitness class?]': 'Fitness Class Influence',\n",
    "    'Has using a fitness wearable influenced your decision? [To change your diet?]': 'Diet Influence'\n",
    "}, inplace=True)"
   ]
  },
  {
   "cell_type": "markdown",
   "metadata": {},
   "source": [
    "#### Check for missing data\n",
    "\n",
    "It is important to check whether there is any missing data on the dataset as this can easily affect the results later on. We can see below that there is no data missing from the table."
   ]
  },
  {
   "cell_type": "code",
   "execution_count": 63,
   "metadata": {},
   "outputs": [
    {
     "name": "stdout",
     "output_type": "stream",
     "text": [
      "Time - 0.0%\n",
      "Age - 0.0%\n",
      "Gender - 0.0%\n",
      "Education - 0.0%\n",
      "Occupation - 0.0%\n",
      "Exercise Frequency - 0.0%\n",
      "Wearable Use Duration - 0.0%\n",
      "Wearable Frequency - 0.0%\n",
      "Data Tracking Frequency - 0.0%\n",
      "Routine Impact - 0.0%\n",
      "Motivation Impact - 0.0%\n",
      "Enjoyment Improvement - 0.0%\n",
      "Engagement Level - 0.0%\n",
      "Community Improvement - 0.0%\n",
      "Goal Impact - 0.0%\n",
      "Health Impact - 0.0%\n",
      "Sleep Improvement - 0.0%\n",
      "Well-being Improvement - 0.0%\n",
      "Exercise Influence - 0.0%\n",
      "Fitness Purchase Influence - 0.0%\n",
      "Fitness Class Influence - 0.0%\n",
      "Diet Influence - 0.0%\n"
     ]
    }
   ],
   "source": [
    "for col in df.columns:\n",
    "    percentage_missing = np.mean(df[col].isnull())\n",
    "    print('{} - {}%'.format(col, percentage_missing))"
   ]
  },
  {
   "cell_type": "markdown",
   "metadata": {},
   "source": [
    "#### Check for data types\n",
    "\n",
    "We should also check whether the data types match the data in the table. As we can see all of the datatypes are as \"object\". I do not agree having my Time column as this data type so I will be changing it into datetime format. I will also be changing the object data types into string format. This is because it might help with some functions later on."
   ]
  },
  {
   "cell_type": "code",
   "execution_count": 64,
   "metadata": {},
   "outputs": [
    {
     "data": {
      "text/plain": [
       "Time                          object\n",
       "Age                           object\n",
       "Gender                        object\n",
       "Education                     object\n",
       "Occupation                    object\n",
       "Exercise Frequency            object\n",
       "Wearable Use Duration         object\n",
       "Wearable Frequency            object\n",
       "Data Tracking Frequency       object\n",
       "Routine Impact                object\n",
       "Motivation Impact             object\n",
       "Enjoyment Improvement         object\n",
       "Engagement Level              object\n",
       "Community Improvement         object\n",
       "Goal Impact                   object\n",
       "Health Impact                 object\n",
       "Sleep Improvement             object\n",
       "Well-being Improvement        object\n",
       "Exercise Influence            object\n",
       "Fitness Purchase Influence    object\n",
       "Fitness Class Influence       object\n",
       "Diet Influence                object\n",
       "dtype: object"
      ]
     },
     "execution_count": 64,
     "metadata": {},
     "output_type": "execute_result"
    }
   ],
   "source": [
    "df.dtypes"
   ]
  },
  {
   "cell_type": "markdown",
   "metadata": {},
   "source": [
    "#### Change the data types and formatting\n",
    "\n",
    "I first changed all of the columns with the object data type into string data type. Then I proceeded to change the \"Time\" column into a \"Date\" column where the cells are formatted as \"yyyy/mm/dd\" as previously it was formatted like \"yyyy/mm/dd h:min:sec PM/AM GMT+5:30\". I changed this as there is no need for such a specific time column. While doing this, I will also change its data type into datetime format. "
   ]
  },
  {
   "cell_type": "code",
   "execution_count": 65,
   "metadata": {},
   "outputs": [
    {
     "name": "stdout",
     "output_type": "stream",
     "text": [
      "Date                          datetime64[ns]\n",
      "Age                           string[python]\n",
      "Gender                        string[python]\n",
      "Education                     string[python]\n",
      "Occupation                    string[python]\n",
      "Exercise Frequency            string[python]\n",
      "Wearable Use Duration         string[python]\n",
      "Wearable Frequency            string[python]\n",
      "Data Tracking Frequency       string[python]\n",
      "Routine Impact                string[python]\n",
      "Motivation Impact             string[python]\n",
      "Enjoyment Improvement         string[python]\n",
      "Engagement Level              string[python]\n",
      "Community Improvement         string[python]\n",
      "Goal Impact                   string[python]\n",
      "Health Impact                 string[python]\n",
      "Sleep Improvement             string[python]\n",
      "Well-being Improvement        string[python]\n",
      "Exercise Influence            string[python]\n",
      "Fitness Purchase Influence    string[python]\n",
      "Fitness Class Influence       string[python]\n",
      "Diet Influence                string[python]\n",
      "dtype: object\n"
     ]
    },
    {
     "data": {
      "text/html": [
       "<div>\n",
       "<style scoped>\n",
       "    .dataframe tbody tr th:only-of-type {\n",
       "        vertical-align: middle;\n",
       "    }\n",
       "\n",
       "    .dataframe tbody tr th {\n",
       "        vertical-align: top;\n",
       "    }\n",
       "\n",
       "    .dataframe thead th {\n",
       "        text-align: right;\n",
       "    }\n",
       "</style>\n",
       "<table border=\"1\" class=\"dataframe\">\n",
       "  <thead>\n",
       "    <tr style=\"text-align: right;\">\n",
       "      <th></th>\n",
       "      <th>Date</th>\n",
       "    </tr>\n",
       "  </thead>\n",
       "  <tbody>\n",
       "    <tr>\n",
       "      <th>0</th>\n",
       "      <td>2023/03/30</td>\n",
       "    </tr>\n",
       "    <tr>\n",
       "      <th>1</th>\n",
       "      <td>2023/03/31</td>\n",
       "    </tr>\n",
       "    <tr>\n",
       "      <th>2</th>\n",
       "      <td>2023/03/31</td>\n",
       "    </tr>\n",
       "    <tr>\n",
       "      <th>3</th>\n",
       "      <td>2023/03/31</td>\n",
       "    </tr>\n",
       "    <tr>\n",
       "      <th>4</th>\n",
       "      <td>2023/03/31</td>\n",
       "    </tr>\n",
       "  </tbody>\n",
       "</table>\n",
       "</div>"
      ],
      "text/plain": [
       "         Date\n",
       "0  2023/03/30\n",
       "1  2023/03/31\n",
       "2  2023/03/31\n",
       "3  2023/03/31\n",
       "4  2023/03/31"
      ]
     },
     "metadata": {},
     "output_type": "display_data"
    }
   ],
   "source": [
    "# Step 1: Convert all object columns to string data type\n",
    "object_columns = df.select_dtypes(include='object').columns\n",
    "df[object_columns] = df[object_columns].astype('string')\n",
    "\n",
    "df.rename(columns={'Time': 'Date'}, inplace=True)\n",
    "\n",
    "df['Date'] = df['Date'].str.replace(r' GMT[+-]\\d{1,2}:\\d{2}', '', regex=True)\n",
    "df['Date'] = pd.to_datetime(df['Date'], format='%Y/%m/%d %I:%M:%S %p', errors='coerce')\n",
    "\n",
    "print(df.dtypes)\n",
    "\n",
    "df['Date'] = df['Date'].dt.strftime('%Y/%m/%d')\n",
    "\n",
    "date_df = df[['Date']].head(5)\n",
    "display(date_df)"
   ]
  },
  {
   "cell_type": "markdown",
   "metadata": {},
   "source": [
    "#### Reformat the rest of the cells"
   ]
  },
  {
   "cell_type": "markdown",
   "metadata": {},
   "source": [
    "To get a better idea of what kind of different answers each column has, I created a list of all of the distinct answers for each column. Using an HTML display, we can view it without creating an overwhelmingly long list."
   ]
  },
  {
   "cell_type": "code",
   "execution_count": 66,
   "metadata": {},
   "outputs": [
    {
     "data": {
      "text/html": [
       "<div style=\"overflow-y: scroll; height: 400px;\"><table border=\"1\" class=\"dataframe\">\n",
       "  <thead>\n",
       "    <tr style=\"text-align: right;\">\n",
       "      <th>Column Name</th>\n",
       "      <th>Distinct Value</th>\n",
       "    </tr>\n",
       "  </thead>\n",
       "  <tbody>\n",
       "    <tr>\n",
       "      <td>Date</td>\n",
       "      <td>2023/03/30</td>\n",
       "    </tr>\n",
       "    <tr>\n",
       "      <td>Date</td>\n",
       "      <td>2023/03/31</td>\n",
       "    </tr>\n",
       "    <tr>\n",
       "      <td>Date</td>\n",
       "      <td>2023/04/02</td>\n",
       "    </tr>\n",
       "    <tr>\n",
       "      <td>Date</td>\n",
       "      <td>2023/04/06</td>\n",
       "    </tr>\n",
       "    <tr>\n",
       "      <td>Date</td>\n",
       "      <td>2023/04/07</td>\n",
       "    </tr>\n",
       "    <tr>\n",
       "      <td>Age</td>\n",
       "      <td>18-24</td>\n",
       "    </tr>\n",
       "    <tr>\n",
       "      <td>Age</td>\n",
       "      <td>Under 18</td>\n",
       "    </tr>\n",
       "    <tr>\n",
       "      <td>Age</td>\n",
       "      <td>25-34</td>\n",
       "    </tr>\n",
       "    <tr>\n",
       "      <td>Age</td>\n",
       "      <td>35-44</td>\n",
       "    </tr>\n",
       "    <tr>\n",
       "      <td>Age</td>\n",
       "      <td>45-54</td>\n",
       "    </tr>\n",
       "    <tr>\n",
       "      <td>Age</td>\n",
       "      <td>55-64</td>\n",
       "    </tr>\n",
       "    <tr>\n",
       "      <td>Gender</td>\n",
       "      <td>Male</td>\n",
       "    </tr>\n",
       "    <tr>\n",
       "      <td>Gender</td>\n",
       "      <td>Female</td>\n",
       "    </tr>\n",
       "    <tr>\n",
       "      <td>Gender</td>\n",
       "      <td>Prefer not to say</td>\n",
       "    </tr>\n",
       "    <tr>\n",
       "      <td>Education</td>\n",
       "      <td>Some college or associate degree</td>\n",
       "    </tr>\n",
       "    <tr>\n",
       "      <td>Education</td>\n",
       "      <td>Bachelor's degree</td>\n",
       "    </tr>\n",
       "    <tr>\n",
       "      <td>Education</td>\n",
       "      <td>Master's degree</td>\n",
       "    </tr>\n",
       "    <tr>\n",
       "      <td>Education</td>\n",
       "      <td>High school diploma</td>\n",
       "    </tr>\n",
       "    <tr>\n",
       "      <td>Education</td>\n",
       "      <td>Doctorate or professional degree</td>\n",
       "    </tr>\n",
       "    <tr>\n",
       "      <td>Education</td>\n",
       "      <td>Less than high school</td>\n",
       "    </tr>\n",
       "    <tr>\n",
       "      <td>Occupation</td>\n",
       "      <td>Student</td>\n",
       "    </tr>\n",
       "    <tr>\n",
       "      <td>Occupation</td>\n",
       "      <td>Employed part-time</td>\n",
       "    </tr>\n",
       "    <tr>\n",
       "      <td>Occupation</td>\n",
       "      <td>Employed full-time</td>\n",
       "    </tr>\n",
       "    <tr>\n",
       "      <td>Occupation</td>\n",
       "      <td>Self-employed</td>\n",
       "    </tr>\n",
       "    <tr>\n",
       "      <td>Occupation</td>\n",
       "      <td>Unemployed</td>\n",
       "    </tr>\n",
       "    <tr>\n",
       "      <td>Occupation</td>\n",
       "      <td>Retired</td>\n",
       "    </tr>\n",
       "    <tr>\n",
       "      <td>Exercise Frequency</td>\n",
       "      <td>5 or more times a week</td>\n",
       "    </tr>\n",
       "    <tr>\n",
       "      <td>Exercise Frequency</td>\n",
       "      <td>Less than once a week</td>\n",
       "    </tr>\n",
       "    <tr>\n",
       "      <td>Exercise Frequency</td>\n",
       "      <td>3-4 times a week</td>\n",
       "    </tr>\n",
       "    <tr>\n",
       "      <td>Exercise Frequency</td>\n",
       "      <td>1-2 times a week</td>\n",
       "    </tr>\n",
       "    <tr>\n",
       "      <td>Wearable Use Duration</td>\n",
       "      <td>Less than 6 months</td>\n",
       "    </tr>\n",
       "    <tr>\n",
       "      <td>Wearable Use Duration</td>\n",
       "      <td>6-12 months</td>\n",
       "    </tr>\n",
       "    <tr>\n",
       "      <td>Wearable Use Duration</td>\n",
       "      <td>1-2 years</td>\n",
       "    </tr>\n",
       "    <tr>\n",
       "      <td>Wearable Use Duration</td>\n",
       "      <td>More than 2 years</td>\n",
       "    </tr>\n",
       "    <tr>\n",
       "      <td>Wearable Frequency</td>\n",
       "      <td>Daily</td>\n",
       "    </tr>\n",
       "    <tr>\n",
       "      <td>Wearable Frequency</td>\n",
       "      <td>3-4 times a week</td>\n",
       "    </tr>\n",
       "    <tr>\n",
       "      <td>Wearable Frequency</td>\n",
       "      <td>Rarely</td>\n",
       "    </tr>\n",
       "    <tr>\n",
       "      <td>Wearable Frequency</td>\n",
       "      <td>1-2 times a week</td>\n",
       "    </tr>\n",
       "    <tr>\n",
       "      <td>Data Tracking Frequency</td>\n",
       "      <td>Every day</td>\n",
       "    </tr>\n",
       "    <tr>\n",
       "      <td>Data Tracking Frequency</td>\n",
       "      <td>Once a week</td>\n",
       "    </tr>\n",
       "    <tr>\n",
       "      <td>Data Tracking Frequency</td>\n",
       "      <td>Rarely</td>\n",
       "    </tr>\n",
       "    <tr>\n",
       "      <td>Data Tracking Frequency</td>\n",
       "      <td>Every other day</td>\n",
       "    </tr>\n",
       "    <tr>\n",
       "      <td>Data Tracking Frequency</td>\n",
       "      <td>Once a month</td>\n",
       "    </tr>\n",
       "    <tr>\n",
       "      <td>Routine Impact</td>\n",
       "      <td>Positively impacted my fitness routine</td>\n",
       "    </tr>\n",
       "    <tr>\n",
       "      <td>Routine Impact</td>\n",
       "      <td>I don't know</td>\n",
       "    </tr>\n",
       "    <tr>\n",
       "      <td>Routine Impact</td>\n",
       "      <td>No impact on my fitness routine</td>\n",
       "    </tr>\n",
       "    <tr>\n",
       "      <td>Routine Impact</td>\n",
       "      <td>Negatively impacted my fitness routine</td>\n",
       "    </tr>\n",
       "    <tr>\n",
       "      <td>Motivation Impact</td>\n",
       "      <td>Strongly agree</td>\n",
       "    </tr>\n",
       "    <tr>\n",
       "      <td>Motivation Impact</td>\n",
       "      <td>Neutral</td>\n",
       "    </tr>\n",
       "    <tr>\n",
       "      <td>Motivation Impact</td>\n",
       "      <td>Agree</td>\n",
       "    </tr>\n",
       "    <tr>\n",
       "      <td>Motivation Impact</td>\n",
       "      <td>Strongly disagree</td>\n",
       "    </tr>\n",
       "    <tr>\n",
       "      <td>Enjoyment Improvement</td>\n",
       "      <td>Strongly agree</td>\n",
       "    </tr>\n",
       "    <tr>\n",
       "      <td>Enjoyment Improvement</td>\n",
       "      <td>Agree</td>\n",
       "    </tr>\n",
       "    <tr>\n",
       "      <td>Enjoyment Improvement</td>\n",
       "      <td>Neutral</td>\n",
       "    </tr>\n",
       "    <tr>\n",
       "      <td>Enjoyment Improvement</td>\n",
       "      <td>Disagree</td>\n",
       "    </tr>\n",
       "    <tr>\n",
       "      <td>Engagement Level</td>\n",
       "      <td>Very engaged</td>\n",
       "    </tr>\n",
       "    <tr>\n",
       "      <td>Engagement Level</td>\n",
       "      <td>Somewhat engaged</td>\n",
       "    </tr>\n",
       "    <tr>\n",
       "      <td>Engagement Level</td>\n",
       "      <td>Not very engaged</td>\n",
       "    </tr>\n",
       "    <tr>\n",
       "      <td>Engagement Level</td>\n",
       "      <td>Neutral</td>\n",
       "    </tr>\n",
       "    <tr>\n",
       "      <td>Community Improvement</td>\n",
       "      <td>Agree</td>\n",
       "    </tr>\n",
       "    <tr>\n",
       "      <td>Community Improvement</td>\n",
       "      <td>Strongly agree</td>\n",
       "    </tr>\n",
       "    <tr>\n",
       "      <td>Community Improvement</td>\n",
       "      <td>Neutral</td>\n",
       "    </tr>\n",
       "    <tr>\n",
       "      <td>Goal Impact</td>\n",
       "      <td>No impact on achieving my goals</td>\n",
       "    </tr>\n",
       "    <tr>\n",
       "      <td>Goal Impact</td>\n",
       "      <td>Helped me achieve my goals somewhat more quickly</td>\n",
       "    </tr>\n",
       "    <tr>\n",
       "      <td>Goal Impact</td>\n",
       "      <td>Helped me achieve my goals much more quickly</td>\n",
       "    </tr>\n",
       "    <tr>\n",
       "      <td>Health Impact</td>\n",
       "      <td>No impact on my overall health</td>\n",
       "    </tr>\n",
       "    <tr>\n",
       "      <td>Health Impact</td>\n",
       "      <td>Improved my overall health somewhat</td>\n",
       "    </tr>\n",
       "    <tr>\n",
       "      <td>Health Impact</td>\n",
       "      <td>Improved my overall health significantly</td>\n",
       "    </tr>\n",
       "    <tr>\n",
       "      <td>Health Impact</td>\n",
       "      <td>I don't know</td>\n",
       "    </tr>\n",
       "    <tr>\n",
       "      <td>Sleep Improvement</td>\n",
       "      <td>Agree</td>\n",
       "    </tr>\n",
       "    <tr>\n",
       "      <td>Sleep Improvement</td>\n",
       "      <td>Strongly agree</td>\n",
       "    </tr>\n",
       "    <tr>\n",
       "      <td>Sleep Improvement</td>\n",
       "      <td>Neutral</td>\n",
       "    </tr>\n",
       "    <tr>\n",
       "      <td>Sleep Improvement</td>\n",
       "      <td>Disagree</td>\n",
       "    </tr>\n",
       "    <tr>\n",
       "      <td>Well-being Improvement</td>\n",
       "      <td>Neutral</td>\n",
       "    </tr>\n",
       "    <tr>\n",
       "      <td>Well-being Improvement</td>\n",
       "      <td>Strongly agree</td>\n",
       "    </tr>\n",
       "    <tr>\n",
       "      <td>Well-being Improvement</td>\n",
       "      <td>Agree</td>\n",
       "    </tr>\n",
       "    <tr>\n",
       "      <td>Well-being Improvement</td>\n",
       "      <td>Disagree</td>\n",
       "    </tr>\n",
       "    <tr>\n",
       "      <td>Exercise Influence</td>\n",
       "      <td>Strongly agree</td>\n",
       "    </tr>\n",
       "    <tr>\n",
       "      <td>Exercise Influence</td>\n",
       "      <td>Agree</td>\n",
       "    </tr>\n",
       "    <tr>\n",
       "      <td>Exercise Influence</td>\n",
       "      <td>Neutral</td>\n",
       "    </tr>\n",
       "    <tr>\n",
       "      <td>Fitness Purchase Influence</td>\n",
       "      <td>Neutral</td>\n",
       "    </tr>\n",
       "    <tr>\n",
       "      <td>Fitness Purchase Influence</td>\n",
       "      <td>Agree</td>\n",
       "    </tr>\n",
       "    <tr>\n",
       "      <td>Fitness Purchase Influence</td>\n",
       "      <td>Disagree</td>\n",
       "    </tr>\n",
       "    <tr>\n",
       "      <td>Fitness Purchase Influence</td>\n",
       "      <td>Strongly agree</td>\n",
       "    </tr>\n",
       "    <tr>\n",
       "      <td>Fitness Class Influence</td>\n",
       "      <td>Agree</td>\n",
       "    </tr>\n",
       "    <tr>\n",
       "      <td>Fitness Class Influence</td>\n",
       "      <td>Neutral</td>\n",
       "    </tr>\n",
       "    <tr>\n",
       "      <td>Fitness Class Influence</td>\n",
       "      <td>Strongly agree</td>\n",
       "    </tr>\n",
       "    <tr>\n",
       "      <td>Diet Influence</td>\n",
       "      <td>Agree</td>\n",
       "    </tr>\n",
       "    <tr>\n",
       "      <td>Diet Influence</td>\n",
       "      <td>Neutral</td>\n",
       "    </tr>\n",
       "    <tr>\n",
       "      <td>Diet Influence</td>\n",
       "      <td>Strongly agree</td>\n",
       "    </tr>\n",
       "  </tbody>\n",
       "</table></div>"
      ],
      "text/plain": [
       "<IPython.core.display.HTML object>"
      ]
     },
     "metadata": {},
     "output_type": "display_data"
    }
   ],
   "source": [
    "distinct_values_list = []\n",
    "for column in df.columns:\n",
    "    distinct_values = df[column].drop_duplicates().dropna().tolist()\n",
    "    for value in distinct_values:\n",
    "        distinct_values_list.append({'Column Name': column, 'Distinct Value': value})\n",
    "\n",
    "distinct_values_df = pd.DataFrame(distinct_values_list)\n",
    "\n",
    "scrollable_html = distinct_values_df.to_html(index=False)\n",
    "display(HTML(f'<div style=\"overflow-y: scroll; height: 400px;\">{scrollable_html}</div>'))"
   ]
  },
  {
   "cell_type": "markdown",
   "metadata": {},
   "source": [
    "We can see that for each improvement or impact column, the answers could be reformatted into aligning formats across similar questions. I decided to change all of the likert scale like questions to align with the (Strongly disagree - Strongly agree) scale. This will make the plotting later on a much more straightforward process. This will also help the reader to understand the plotting better as the scale stays consistent throughout the analysis. I also changed the answers in the \"Education\" column by shortening them. "
   ]
  },
  {
   "cell_type": "code",
   "execution_count": 67,
   "metadata": {},
   "outputs": [
    {
     "data": {
      "text/html": [
       "<div style=\"overflow-y: scroll; height: 400px;\"><table border=\"1\" class=\"dataframe\">\n",
       "  <thead>\n",
       "    <tr style=\"text-align: right;\">\n",
       "      <th>Date</th>\n",
       "      <th>Age</th>\n",
       "      <th>Gender</th>\n",
       "      <th>Education</th>\n",
       "      <th>Occupation</th>\n",
       "      <th>Exercise Frequency</th>\n",
       "      <th>Wearable Use Duration</th>\n",
       "      <th>Wearable Frequency</th>\n",
       "      <th>Data Tracking Frequency</th>\n",
       "      <th>Routine Impact</th>\n",
       "      <th>Motivation Impact</th>\n",
       "      <th>Enjoyment Improvement</th>\n",
       "      <th>Engagement Level</th>\n",
       "      <th>Community Improvement</th>\n",
       "      <th>Goal Impact</th>\n",
       "      <th>Health Impact</th>\n",
       "      <th>Sleep Improvement</th>\n",
       "      <th>Well-being Improvement</th>\n",
       "      <th>Exercise Influence</th>\n",
       "      <th>Fitness Purchase Influence</th>\n",
       "      <th>Fitness Class Influence</th>\n",
       "      <th>Diet Influence</th>\n",
       "    </tr>\n",
       "  </thead>\n",
       "  <tbody>\n",
       "    <tr>\n",
       "      <td>2023/03/30</td>\n",
       "      <td>18-24</td>\n",
       "      <td>Male</td>\n",
       "      <td>College or Associate</td>\n",
       "      <td>Student</td>\n",
       "      <td>5 or more times a week</td>\n",
       "      <td>Less than 6 months</td>\n",
       "      <td>Daily</td>\n",
       "      <td>Every day</td>\n",
       "      <td>Agree</td>\n",
       "      <td>Strongly agree</td>\n",
       "      <td>Strongly agree</td>\n",
       "      <td>Strongly agree</td>\n",
       "      <td>Agree</td>\n",
       "      <td>Disagree</td>\n",
       "      <td>Disagree</td>\n",
       "      <td>Agree</td>\n",
       "      <td>Neutral</td>\n",
       "      <td>Strongly agree</td>\n",
       "      <td>Neutral</td>\n",
       "      <td>Agree</td>\n",
       "      <td>Agree</td>\n",
       "    </tr>\n",
       "    <tr>\n",
       "      <td>2023/03/31</td>\n",
       "      <td>Under 18</td>\n",
       "      <td>Male</td>\n",
       "      <td>Bachelors</td>\n",
       "      <td>Student</td>\n",
       "      <td>5 or more times a week</td>\n",
       "      <td>Less than 6 months</td>\n",
       "      <td>3-4 times a week</td>\n",
       "      <td>Once a week</td>\n",
       "      <td>Agree</td>\n",
       "      <td>Neutral</td>\n",
       "      <td>Agree</td>\n",
       "      <td>Agree</td>\n",
       "      <td>Agree</td>\n",
       "      <td>Agree</td>\n",
       "      <td>Agree</td>\n",
       "      <td>Agree</td>\n",
       "      <td>Strongly agree</td>\n",
       "      <td>Agree</td>\n",
       "      <td>Neutral</td>\n",
       "      <td>Neutral</td>\n",
       "      <td>Neutral</td>\n",
       "    </tr>\n",
       "    <tr>\n",
       "      <td>2023/03/31</td>\n",
       "      <td>18-24</td>\n",
       "      <td>Female</td>\n",
       "      <td>Bachelors</td>\n",
       "      <td>Student</td>\n",
       "      <td>Less than once a week</td>\n",
       "      <td>Less than 6 months</td>\n",
       "      <td>Rarely</td>\n",
       "      <td>Rarely</td>\n",
       "      <td>Agree</td>\n",
       "      <td>Strongly agree</td>\n",
       "      <td>Agree</td>\n",
       "      <td>Disagree</td>\n",
       "      <td>Strongly agree</td>\n",
       "      <td>Strongly agree</td>\n",
       "      <td>Strongly agree</td>\n",
       "      <td>Strongly agree</td>\n",
       "      <td>Strongly agree</td>\n",
       "      <td>Agree</td>\n",
       "      <td>Agree</td>\n",
       "      <td>Strongly agree</td>\n",
       "      <td>Agree</td>\n",
       "    </tr>\n",
       "    <tr>\n",
       "      <td>2023/03/31</td>\n",
       "      <td>25-34</td>\n",
       "      <td>Female</td>\n",
       "      <td>College or Associate</td>\n",
       "      <td>Employed part-time</td>\n",
       "      <td>3-4 times a week</td>\n",
       "      <td>6-12 months</td>\n",
       "      <td>3-4 times a week</td>\n",
       "      <td>Every day</td>\n",
       "      <td>Neutral</td>\n",
       "      <td>Strongly agree</td>\n",
       "      <td>Agree</td>\n",
       "      <td>Agree</td>\n",
       "      <td>Strongly agree</td>\n",
       "      <td>Agree</td>\n",
       "      <td>Agree</td>\n",
       "      <td>Agree</td>\n",
       "      <td>Strongly agree</td>\n",
       "      <td>Agree</td>\n",
       "      <td>Disagree</td>\n",
       "      <td>Neutral</td>\n",
       "      <td>Agree</td>\n",
       "    </tr>\n",
       "    <tr>\n",
       "      <td>2023/03/31</td>\n",
       "      <td>18-24</td>\n",
       "      <td>Male</td>\n",
       "      <td>Bachelors</td>\n",
       "      <td>Student</td>\n",
       "      <td>1-2 times a week</td>\n",
       "      <td>Less than 6 months</td>\n",
       "      <td>Daily</td>\n",
       "      <td>Every other day</td>\n",
       "      <td>Agree</td>\n",
       "      <td>Neutral</td>\n",
       "      <td>Agree</td>\n",
       "      <td>Neutral</td>\n",
       "      <td>Agree</td>\n",
       "      <td>Strongly agree</td>\n",
       "      <td>Strongly agree</td>\n",
       "      <td>Agree</td>\n",
       "      <td>Strongly agree</td>\n",
       "      <td>Agree</td>\n",
       "      <td>Neutral</td>\n",
       "      <td>Agree</td>\n",
       "      <td>Strongly agree</td>\n",
       "    </tr>\n",
       "    <tr>\n",
       "      <td>2023/03/31</td>\n",
       "      <td>18-24</td>\n",
       "      <td>Female</td>\n",
       "      <td>Masters</td>\n",
       "      <td>Employed full-time</td>\n",
       "      <td>5 or more times a week</td>\n",
       "      <td>1-2 years</td>\n",
       "      <td>Daily</td>\n",
       "      <td>Every day</td>\n",
       "      <td>Agree</td>\n",
       "      <td>Strongly agree</td>\n",
       "      <td>Strongly agree</td>\n",
       "      <td>Strongly agree</td>\n",
       "      <td>Strongly agree</td>\n",
       "      <td>Strongly agree</td>\n",
       "      <td>Strongly agree</td>\n",
       "      <td>Strongly agree</td>\n",
       "      <td>Strongly agree</td>\n",
       "      <td>Strongly agree</td>\n",
       "      <td>Agree</td>\n",
       "      <td>Strongly agree</td>\n",
       "      <td>Strongly agree</td>\n",
       "    </tr>\n",
       "    <tr>\n",
       "      <td>2023/03/31</td>\n",
       "      <td>18-24</td>\n",
       "      <td>Male</td>\n",
       "      <td>Bachelors</td>\n",
       "      <td>Student</td>\n",
       "      <td>Less than once a week</td>\n",
       "      <td>1-2 years</td>\n",
       "      <td>1-2 times a week</td>\n",
       "      <td>Once a week</td>\n",
       "      <td>Agree</td>\n",
       "      <td>Strongly agree</td>\n",
       "      <td>Strongly agree</td>\n",
       "      <td>Strongly agree</td>\n",
       "      <td>Strongly agree</td>\n",
       "      <td>Strongly agree</td>\n",
       "      <td>Strongly agree</td>\n",
       "      <td>Strongly agree</td>\n",
       "      <td>Strongly agree</td>\n",
       "      <td>Neutral</td>\n",
       "      <td>Neutral</td>\n",
       "      <td>Neutral</td>\n",
       "      <td>Neutral</td>\n",
       "    </tr>\n",
       "    <tr>\n",
       "      <td>2023/04/02</td>\n",
       "      <td>18-24</td>\n",
       "      <td>Female</td>\n",
       "      <td>Bachelors</td>\n",
       "      <td>Student</td>\n",
       "      <td>Less than once a week</td>\n",
       "      <td>Less than 6 months</td>\n",
       "      <td>Daily</td>\n",
       "      <td>Once a month</td>\n",
       "      <td>Neutral</td>\n",
       "      <td>Agree</td>\n",
       "      <td>Agree</td>\n",
       "      <td>Strongly agree</td>\n",
       "      <td>Strongly agree</td>\n",
       "      <td>Agree</td>\n",
       "      <td>Agree</td>\n",
       "      <td>Agree</td>\n",
       "      <td>Agree</td>\n",
       "      <td>Agree</td>\n",
       "      <td>Disagree</td>\n",
       "      <td>Agree</td>\n",
       "      <td>Agree</td>\n",
       "    </tr>\n",
       "    <tr>\n",
       "      <td>2023/04/02</td>\n",
       "      <td>18-24</td>\n",
       "      <td>Male</td>\n",
       "      <td>High School</td>\n",
       "      <td>Employed part-time</td>\n",
       "      <td>1-2 times a week</td>\n",
       "      <td>Less than 6 months</td>\n",
       "      <td>1-2 times a week</td>\n",
       "      <td>Every other day</td>\n",
       "      <td>Agree</td>\n",
       "      <td>Strongly agree</td>\n",
       "      <td>Agree</td>\n",
       "      <td>Strongly agree</td>\n",
       "      <td>Neutral</td>\n",
       "      <td>Strongly agree</td>\n",
       "      <td>Strongly agree</td>\n",
       "      <td>Agree</td>\n",
       "      <td>Agree</td>\n",
       "      <td>Neutral</td>\n",
       "      <td>Agree</td>\n",
       "      <td>Agree</td>\n",
       "      <td>Agree</td>\n",
       "    </tr>\n",
       "    <tr>\n",
       "      <td>2023/04/02</td>\n",
       "      <td>35-44</td>\n",
       "      <td>Male</td>\n",
       "      <td>High School</td>\n",
       "      <td>Employed full-time</td>\n",
       "      <td>Less than once a week</td>\n",
       "      <td>6-12 months</td>\n",
       "      <td>Daily</td>\n",
       "      <td>Every day</td>\n",
       "      <td>Agree</td>\n",
       "      <td>Strongly agree</td>\n",
       "      <td>Strongly agree</td>\n",
       "      <td>Strongly agree</td>\n",
       "      <td>Agree</td>\n",
       "      <td>Strongly agree</td>\n",
       "      <td>Agree</td>\n",
       "      <td>Neutral</td>\n",
       "      <td>Neutral</td>\n",
       "      <td>Strongly agree</td>\n",
       "      <td>Agree</td>\n",
       "      <td>Strongly agree</td>\n",
       "      <td>Strongly agree</td>\n",
       "    </tr>\n",
       "    <tr>\n",
       "      <td>2023/04/02</td>\n",
       "      <td>35-44</td>\n",
       "      <td>Female</td>\n",
       "      <td>Doctorate or Professional</td>\n",
       "      <td>Self-employed</td>\n",
       "      <td>5 or more times a week</td>\n",
       "      <td>More than 2 years</td>\n",
       "      <td>Daily</td>\n",
       "      <td>Every day</td>\n",
       "      <td>Agree</td>\n",
       "      <td>Strongly agree</td>\n",
       "      <td>Strongly agree</td>\n",
       "      <td>Strongly agree</td>\n",
       "      <td>Strongly agree</td>\n",
       "      <td>Strongly agree</td>\n",
       "      <td>Strongly agree</td>\n",
       "      <td>Strongly agree</td>\n",
       "      <td>Strongly agree</td>\n",
       "      <td>Strongly agree</td>\n",
       "      <td>Agree</td>\n",
       "      <td>Neutral</td>\n",
       "      <td>Agree</td>\n",
       "    </tr>\n",
       "    <tr>\n",
       "      <td>2023/04/02</td>\n",
       "      <td>18-24</td>\n",
       "      <td>Female</td>\n",
       "      <td>Bachelors</td>\n",
       "      <td>Self-employed</td>\n",
       "      <td>1-2 times a week</td>\n",
       "      <td>Less than 6 months</td>\n",
       "      <td>3-4 times a week</td>\n",
       "      <td>Every day</td>\n",
       "      <td>Agree</td>\n",
       "      <td>Strongly agree</td>\n",
       "      <td>Neutral</td>\n",
       "      <td>Neutral</td>\n",
       "      <td>Neutral</td>\n",
       "      <td>Agree</td>\n",
       "      <td>Agree</td>\n",
       "      <td>Agree</td>\n",
       "      <td>Agree</td>\n",
       "      <td>Agree</td>\n",
       "      <td>Strongly agree</td>\n",
       "      <td>Agree</td>\n",
       "      <td>Strongly agree</td>\n",
       "    </tr>\n",
       "    <tr>\n",
       "      <td>2023/04/02</td>\n",
       "      <td>25-34</td>\n",
       "      <td>Female</td>\n",
       "      <td>High School</td>\n",
       "      <td>Employed part-time</td>\n",
       "      <td>Less than once a week</td>\n",
       "      <td>6-12 months</td>\n",
       "      <td>3-4 times a week</td>\n",
       "      <td>Once a month</td>\n",
       "      <td>Agree</td>\n",
       "      <td>Strongly agree</td>\n",
       "      <td>Strongly agree</td>\n",
       "      <td>Neutral</td>\n",
       "      <td>Agree</td>\n",
       "      <td>Agree</td>\n",
       "      <td>Agree</td>\n",
       "      <td>Agree</td>\n",
       "      <td>Agree</td>\n",
       "      <td>Strongly agree</td>\n",
       "      <td>Agree</td>\n",
       "      <td>Strongly agree</td>\n",
       "      <td>Strongly agree</td>\n",
       "    </tr>\n",
       "    <tr>\n",
       "      <td>2023/04/02</td>\n",
       "      <td>45-54</td>\n",
       "      <td>Prefer not to say</td>\n",
       "      <td>Masters</td>\n",
       "      <td>Unemployed</td>\n",
       "      <td>3-4 times a week</td>\n",
       "      <td>6-12 months</td>\n",
       "      <td>1-2 times a week</td>\n",
       "      <td>Once a week</td>\n",
       "      <td>Disagree</td>\n",
       "      <td>Strongly disagree</td>\n",
       "      <td>Disagree</td>\n",
       "      <td>Disagree</td>\n",
       "      <td>Neutral</td>\n",
       "      <td>Disagree</td>\n",
       "      <td>Neutral</td>\n",
       "      <td>Disagree</td>\n",
       "      <td>Disagree</td>\n",
       "      <td>Neutral</td>\n",
       "      <td>Agree</td>\n",
       "      <td>Agree</td>\n",
       "      <td>Neutral</td>\n",
       "    </tr>\n",
       "    <tr>\n",
       "      <td>2023/04/02</td>\n",
       "      <td>55-64</td>\n",
       "      <td>Prefer not to say</td>\n",
       "      <td>Doctorate or Professional</td>\n",
       "      <td>Retired</td>\n",
       "      <td>5 or more times a week</td>\n",
       "      <td>6-12 months</td>\n",
       "      <td>3-4 times a week</td>\n",
       "      <td>Every other day</td>\n",
       "      <td>Agree</td>\n",
       "      <td>Strongly agree</td>\n",
       "      <td>Neutral</td>\n",
       "      <td>Agree</td>\n",
       "      <td>Neutral</td>\n",
       "      <td>Agree</td>\n",
       "      <td>Disagree</td>\n",
       "      <td>Neutral</td>\n",
       "      <td>Agree</td>\n",
       "      <td>Strongly agree</td>\n",
       "      <td>Agree</td>\n",
       "      <td>Agree</td>\n",
       "      <td>Strongly agree</td>\n",
       "    </tr>\n",
       "    <tr>\n",
       "      <td>2023/04/02</td>\n",
       "      <td>45-54</td>\n",
       "      <td>Female</td>\n",
       "      <td>Bachelors</td>\n",
       "      <td>Self-employed</td>\n",
       "      <td>Less than once a week</td>\n",
       "      <td>Less than 6 months</td>\n",
       "      <td>3-4 times a week</td>\n",
       "      <td>Every other day</td>\n",
       "      <td>Agree</td>\n",
       "      <td>Agree</td>\n",
       "      <td>Agree</td>\n",
       "      <td>Agree</td>\n",
       "      <td>Agree</td>\n",
       "      <td>Agree</td>\n",
       "      <td>Disagree</td>\n",
       "      <td>Neutral</td>\n",
       "      <td>Agree</td>\n",
       "      <td>Agree</td>\n",
       "      <td>Agree</td>\n",
       "      <td>Agree</td>\n",
       "      <td>Agree</td>\n",
       "    </tr>\n",
       "    <tr>\n",
       "      <td>2023/04/06</td>\n",
       "      <td>25-34</td>\n",
       "      <td>Female</td>\n",
       "      <td>College or Associate</td>\n",
       "      <td>Unemployed</td>\n",
       "      <td>3-4 times a week</td>\n",
       "      <td>Less than 6 months</td>\n",
       "      <td>3-4 times a week</td>\n",
       "      <td>Once a week</td>\n",
       "      <td>Agree</td>\n",
       "      <td>Strongly agree</td>\n",
       "      <td>Strongly agree</td>\n",
       "      <td>Agree</td>\n",
       "      <td>Agree</td>\n",
       "      <td>Agree</td>\n",
       "      <td>Agree</td>\n",
       "      <td>Strongly agree</td>\n",
       "      <td>Agree</td>\n",
       "      <td>Agree</td>\n",
       "      <td>Strongly agree</td>\n",
       "      <td>Agree</td>\n",
       "      <td>Strongly agree</td>\n",
       "    </tr>\n",
       "    <tr>\n",
       "      <td>2023/04/06</td>\n",
       "      <td>25-34</td>\n",
       "      <td>Male</td>\n",
       "      <td>College or Associate</td>\n",
       "      <td>Self-employed</td>\n",
       "      <td>1-2 times a week</td>\n",
       "      <td>6-12 months</td>\n",
       "      <td>1-2 times a week</td>\n",
       "      <td>Once a week</td>\n",
       "      <td>Agree</td>\n",
       "      <td>Strongly agree</td>\n",
       "      <td>Agree</td>\n",
       "      <td>Agree</td>\n",
       "      <td>Agree</td>\n",
       "      <td>Strongly agree</td>\n",
       "      <td>Agree</td>\n",
       "      <td>Agree</td>\n",
       "      <td>Agree</td>\n",
       "      <td>Strongly agree</td>\n",
       "      <td>Agree</td>\n",
       "      <td>Agree</td>\n",
       "      <td>Strongly agree</td>\n",
       "    </tr>\n",
       "    <tr>\n",
       "      <td>2023/04/07</td>\n",
       "      <td>25-34</td>\n",
       "      <td>Female</td>\n",
       "      <td>Doctorate or Professional</td>\n",
       "      <td>Self-employed</td>\n",
       "      <td>3-4 times a week</td>\n",
       "      <td>1-2 years</td>\n",
       "      <td>3-4 times a week</td>\n",
       "      <td>Every other day</td>\n",
       "      <td>Agree</td>\n",
       "      <td>Agree</td>\n",
       "      <td>Agree</td>\n",
       "      <td>Agree</td>\n",
       "      <td>Agree</td>\n",
       "      <td>Strongly agree</td>\n",
       "      <td>Strongly agree</td>\n",
       "      <td>Agree</td>\n",
       "      <td>Agree</td>\n",
       "      <td>Agree</td>\n",
       "      <td>Neutral</td>\n",
       "      <td>Strongly agree</td>\n",
       "      <td>Agree</td>\n",
       "    </tr>\n",
       "    <tr>\n",
       "      <td>2023/04/07</td>\n",
       "      <td>55-64</td>\n",
       "      <td>Female</td>\n",
       "      <td>Doctorate or Professional</td>\n",
       "      <td>Retired</td>\n",
       "      <td>1-2 times a week</td>\n",
       "      <td>Less than 6 months</td>\n",
       "      <td>1-2 times a week</td>\n",
       "      <td>Once a week</td>\n",
       "      <td>Neutral</td>\n",
       "      <td>Neutral</td>\n",
       "      <td>Neutral</td>\n",
       "      <td>Neutral</td>\n",
       "      <td>Neutral</td>\n",
       "      <td>Agree</td>\n",
       "      <td>Agree</td>\n",
       "      <td>Neutral</td>\n",
       "      <td>Neutral</td>\n",
       "      <td>Agree</td>\n",
       "      <td>Neutral</td>\n",
       "      <td>Neutral</td>\n",
       "      <td>Agree</td>\n",
       "    </tr>\n",
       "    <tr>\n",
       "      <td>2023/04/07</td>\n",
       "      <td>Under 18</td>\n",
       "      <td>Male</td>\n",
       "      <td>High School</td>\n",
       "      <td>Student</td>\n",
       "      <td>3-4 times a week</td>\n",
       "      <td>6-12 months</td>\n",
       "      <td>3-4 times a week</td>\n",
       "      <td>Every other day</td>\n",
       "      <td>Agree</td>\n",
       "      <td>Strongly agree</td>\n",
       "      <td>Strongly agree</td>\n",
       "      <td>Agree</td>\n",
       "      <td>Strongly agree</td>\n",
       "      <td>Strongly agree</td>\n",
       "      <td>Strongly agree</td>\n",
       "      <td>Strongly agree</td>\n",
       "      <td>Strongly agree</td>\n",
       "      <td>Strongly agree</td>\n",
       "      <td>Strongly agree</td>\n",
       "      <td>Strongly agree</td>\n",
       "      <td>Strongly agree</td>\n",
       "    </tr>\n",
       "    <tr>\n",
       "      <td>2023/04/07</td>\n",
       "      <td>35-44</td>\n",
       "      <td>Male</td>\n",
       "      <td>Masters</td>\n",
       "      <td>Employed full-time</td>\n",
       "      <td>Less than once a week</td>\n",
       "      <td>Less than 6 months</td>\n",
       "      <td>Rarely</td>\n",
       "      <td>Rarely</td>\n",
       "      <td>Neutral</td>\n",
       "      <td>Neutral</td>\n",
       "      <td>Neutral</td>\n",
       "      <td>Neutral</td>\n",
       "      <td>Neutral</td>\n",
       "      <td>Agree</td>\n",
       "      <td>Neutral</td>\n",
       "      <td>Neutral</td>\n",
       "      <td>Neutral</td>\n",
       "      <td>Neutral</td>\n",
       "      <td>Neutral</td>\n",
       "      <td>Neutral</td>\n",
       "      <td>Neutral</td>\n",
       "    </tr>\n",
       "    <tr>\n",
       "      <td>2023/04/07</td>\n",
       "      <td>25-34</td>\n",
       "      <td>Female</td>\n",
       "      <td>Masters</td>\n",
       "      <td>Self-employed</td>\n",
       "      <td>3-4 times a week</td>\n",
       "      <td>6-12 months</td>\n",
       "      <td>3-4 times a week</td>\n",
       "      <td>Once a week</td>\n",
       "      <td>Agree</td>\n",
       "      <td>Agree</td>\n",
       "      <td>Agree</td>\n",
       "      <td>Agree</td>\n",
       "      <td>Agree</td>\n",
       "      <td>Agree</td>\n",
       "      <td>Agree</td>\n",
       "      <td>Agree</td>\n",
       "      <td>Agree</td>\n",
       "      <td>Agree</td>\n",
       "      <td>Agree</td>\n",
       "      <td>Agree</td>\n",
       "      <td>Agree</td>\n",
       "    </tr>\n",
       "    <tr>\n",
       "      <td>2023/04/07</td>\n",
       "      <td>45-54</td>\n",
       "      <td>Female</td>\n",
       "      <td>Doctorate or Professional</td>\n",
       "      <td>Employed part-time</td>\n",
       "      <td>1-2 times a week</td>\n",
       "      <td>Less than 6 months</td>\n",
       "      <td>1-2 times a week</td>\n",
       "      <td>Once a month</td>\n",
       "      <td>Agree</td>\n",
       "      <td>Agree</td>\n",
       "      <td>Strongly agree</td>\n",
       "      <td>Agree</td>\n",
       "      <td>Strongly agree</td>\n",
       "      <td>Agree</td>\n",
       "      <td>Strongly agree</td>\n",
       "      <td>Agree</td>\n",
       "      <td>Strongly agree</td>\n",
       "      <td>Strongly agree</td>\n",
       "      <td>Agree</td>\n",
       "      <td>Agree</td>\n",
       "      <td>Strongly agree</td>\n",
       "    </tr>\n",
       "    <tr>\n",
       "      <td>2023/04/07</td>\n",
       "      <td>18-24</td>\n",
       "      <td>Male</td>\n",
       "      <td>Bachelors</td>\n",
       "      <td>Employed full-time</td>\n",
       "      <td>3-4 times a week</td>\n",
       "      <td>1-2 years</td>\n",
       "      <td>Daily</td>\n",
       "      <td>Every day</td>\n",
       "      <td>Agree</td>\n",
       "      <td>Strongly agree</td>\n",
       "      <td>Strongly agree</td>\n",
       "      <td>Strongly agree</td>\n",
       "      <td>Strongly agree</td>\n",
       "      <td>Strongly agree</td>\n",
       "      <td>Strongly agree</td>\n",
       "      <td>Strongly agree</td>\n",
       "      <td>Strongly agree</td>\n",
       "      <td>Strongly agree</td>\n",
       "      <td>Agree</td>\n",
       "      <td>Strongly agree</td>\n",
       "      <td>Strongly agree</td>\n",
       "    </tr>\n",
       "    <tr>\n",
       "      <td>2023/04/07</td>\n",
       "      <td>Under 18</td>\n",
       "      <td>Female</td>\n",
       "      <td>Masters</td>\n",
       "      <td>Employed part-time</td>\n",
       "      <td>3-4 times a week</td>\n",
       "      <td>6-12 months</td>\n",
       "      <td>1-2 times a week</td>\n",
       "      <td>Once a week</td>\n",
       "      <td>Agree</td>\n",
       "      <td>Agree</td>\n",
       "      <td>Agree</td>\n",
       "      <td>Neutral</td>\n",
       "      <td>Neutral</td>\n",
       "      <td>Agree</td>\n",
       "      <td>Agree</td>\n",
       "      <td>Strongly agree</td>\n",
       "      <td>Strongly agree</td>\n",
       "      <td>Agree</td>\n",
       "      <td>Agree</td>\n",
       "      <td>Strongly agree</td>\n",
       "      <td>Agree</td>\n",
       "    </tr>\n",
       "    <tr>\n",
       "      <td>2023/04/07</td>\n",
       "      <td>35-44</td>\n",
       "      <td>Female</td>\n",
       "      <td>Doctorate or Professional</td>\n",
       "      <td>Self-employed</td>\n",
       "      <td>3-4 times a week</td>\n",
       "      <td>6-12 months</td>\n",
       "      <td>3-4 times a week</td>\n",
       "      <td>Every other day</td>\n",
       "      <td>Neutral</td>\n",
       "      <td>Neutral</td>\n",
       "      <td>Neutral</td>\n",
       "      <td>Agree</td>\n",
       "      <td>Agree</td>\n",
       "      <td>Agree</td>\n",
       "      <td>Neutral</td>\n",
       "      <td>Agree</td>\n",
       "      <td>Neutral</td>\n",
       "      <td>Agree</td>\n",
       "      <td>Neutral</td>\n",
       "      <td>Agree</td>\n",
       "      <td>Strongly agree</td>\n",
       "    </tr>\n",
       "    <tr>\n",
       "      <td>2023/04/07</td>\n",
       "      <td>Under 18</td>\n",
       "      <td>Male</td>\n",
       "      <td>High School</td>\n",
       "      <td>Student</td>\n",
       "      <td>5 or more times a week</td>\n",
       "      <td>More than 2 years</td>\n",
       "      <td>Daily</td>\n",
       "      <td>Every day</td>\n",
       "      <td>Agree</td>\n",
       "      <td>Strongly agree</td>\n",
       "      <td>Strongly agree</td>\n",
       "      <td>Strongly agree</td>\n",
       "      <td>Strongly agree</td>\n",
       "      <td>Strongly agree</td>\n",
       "      <td>Strongly agree</td>\n",
       "      <td>Strongly agree</td>\n",
       "      <td>Strongly agree</td>\n",
       "      <td>Strongly agree</td>\n",
       "      <td>Strongly agree</td>\n",
       "      <td>Strongly agree</td>\n",
       "      <td>Agree</td>\n",
       "    </tr>\n",
       "    <tr>\n",
       "      <td>2023/04/07</td>\n",
       "      <td>18-24</td>\n",
       "      <td>Male</td>\n",
       "      <td>Less than high school</td>\n",
       "      <td>Employed full-time</td>\n",
       "      <td>1-2 times a week</td>\n",
       "      <td>Less than 6 months</td>\n",
       "      <td>Rarely</td>\n",
       "      <td>Every day</td>\n",
       "      <td>Agree</td>\n",
       "      <td>Agree</td>\n",
       "      <td>Agree</td>\n",
       "      <td>Neutral</td>\n",
       "      <td>Agree</td>\n",
       "      <td>Agree</td>\n",
       "      <td>Agree</td>\n",
       "      <td>Agree</td>\n",
       "      <td>Agree</td>\n",
       "      <td>Agree</td>\n",
       "      <td>Agree</td>\n",
       "      <td>Agree</td>\n",
       "      <td>Agree</td>\n",
       "    </tr>\n",
       "    <tr>\n",
       "      <td>2023/04/07</td>\n",
       "      <td>Under 18</td>\n",
       "      <td>Male</td>\n",
       "      <td>High School</td>\n",
       "      <td>Student</td>\n",
       "      <td>1-2 times a week</td>\n",
       "      <td>1-2 years</td>\n",
       "      <td>1-2 times a week</td>\n",
       "      <td>Every other day</td>\n",
       "      <td>Agree</td>\n",
       "      <td>Agree</td>\n",
       "      <td>Strongly agree</td>\n",
       "      <td>Strongly agree</td>\n",
       "      <td>Agree</td>\n",
       "      <td>Strongly agree</td>\n",
       "      <td>Strongly agree</td>\n",
       "      <td>Strongly agree</td>\n",
       "      <td>Agree</td>\n",
       "      <td>Agree</td>\n",
       "      <td>Strongly agree</td>\n",
       "      <td>Agree</td>\n",
       "      <td>Agree</td>\n",
       "    </tr>\n",
       "  </tbody>\n",
       "</table></div>"
      ],
      "text/plain": [
       "<IPython.core.display.HTML object>"
      ]
     },
     "metadata": {},
     "output_type": "display_data"
    }
   ],
   "source": [
    "\n",
    "replacements = {\n",
    "    'Goal Impact': {\n",
    "        \"No impact on achieving my goals\": \"Disagree\",\n",
    "        \"Helped me achieve my goals somewhat more quickly\": \"Agree\",\n",
    "        \"Helped me achieve my goals much more quickly\": \"Strongly agree\"\n",
    "    },\n",
    "    'Health Impact': {\n",
    "        \"No impact on my overall health\": \"Disagree\",\n",
    "        \"Improved my overall health somewhat\": \"Agree\",\n",
    "        \"Improved my overall health significantly\": \"Strongly agree\",\n",
    "        \"I don't know\": \"Neutral\"\n",
    "    },\n",
    "    'Engagement Level': {\n",
    "        \"Not very engaged\": \"Disagree\",\n",
    "        \"Somewhat engaged\": \"Agree\",\n",
    "        \"Very engaged\": \"Strongly agree\"\n",
    "    },\n",
    "    'Routine Impact': {\n",
    "        \"Negatively impacted my fitness routine\": \"Disagree\",\n",
    "        \"Positively impacted my fitness routine\": \"Agree\",\n",
    "        \"I don't know\": \"Neutral\",\n",
    "        \"No impact on my fitness routine\": \"Neutral\"\n",
    "    },\n",
    "    'Education': {\n",
    "        \"Some college or associate degree\": \"College or Associate\",\n",
    "        \"Bachelor's degree\": \"Bachelors\",\n",
    "        \"Master's degree\": \"Masters\",\n",
    "        \"High school diploma\": \"High School\",\n",
    "        \"Doctorate or professional degree\": \"Doctorate or Professional\"\n",
    "    }\n",
    "}\n",
    "\n",
    "for column, values in replacements.items():\n",
    "    df[column] = df[column].replace(values)\n",
    "\n",
    "scrollable_df= df.to_html(index=False)\n",
    "display(HTML(f'<div style=\"overflow-y: scroll; height: 400px;\">{scrollable_df}</div>'))"
   ]
  },
  {
   "cell_type": "markdown",
   "metadata": {},
   "source": [
    "#### Saving the cleaned data\n",
    "\n",
    "Before going into visualization, I will be saving the cleaned dataset above."
   ]
  },
  {
   "cell_type": "code",
   "execution_count": 68,
   "metadata": {},
   "outputs": [
    {
     "name": "stdout",
     "output_type": "stream",
     "text": [
      "New file with cleaned data has been saved.\n"
     ]
    }
   ],
   "source": [
    "cleaned_df = df.dropna()\n",
    "\n",
    "cleaned_df.to_csv('Fitness data.csv', index=False)\n",
    "\n",
    "print(\"New file with cleaned data has been saved.\")"
   ]
  },
  {
   "cell_type": "markdown",
   "metadata": {},
   "source": [
    "## Visualizing data"
   ]
  },
  {
   "cell_type": "markdown",
   "metadata": {},
   "source": [
    "#### Fitness time usage\n",
    "\n",
    "First I will be covering the time usage part of the fitness questionnaire. This will cover exercise frequency and the frequency of tracking data gathered with the wearable as those are the two metrics that I am most interested in. I will be covering these topics based on age, gender and education."
   ]
  },
  {
   "cell_type": "code",
   "execution_count": 69,
   "metadata": {},
   "outputs": [
    {
     "name": "stdout",
     "output_type": "stream",
     "text": [
      "Count of each age group:\n",
      "Age\n",
      "Under 18     5\n",
      "18-24       10\n",
      "25-34        6\n",
      "35-44        4\n",
      "45-54        3\n",
      "55-64        2\n",
      "Name: count, dtype: Int64\n"
     ]
    },
    {
     "data": {
      "application/vnd.plotly.v1+json": {
       "config": {
        "plotlyServerURL": "https://plot.ly"
       },
       "data": [
        {
         "alignmentgroup": "True",
         "hovertemplate": "Age=Under 18<br>Exercise Frequency=%{x}<br>Number of People=%{y}<extra></extra>",
         "legendgroup": "Under 18",
         "marker": {
          "color": "#636efa",
          "pattern": {
           "shape": ""
          }
         },
         "name": "Under 18",
         "offsetgroup": "Under 18",
         "orientation": "v",
         "showlegend": true,
         "textposition": "auto",
         "type": "bar",
         "x": [
          "1-2 times a week",
          "3-4 times a week",
          "5 or more times a week"
         ],
         "xaxis": "x",
         "y": [
          1,
          2,
          2
         ],
         "yaxis": "y"
        },
        {
         "alignmentgroup": "True",
         "hovertemplate": "Age=18-24<br>Exercise Frequency=%{x}<br>Number of People=%{y}<extra></extra>",
         "legendgroup": "18-24",
         "marker": {
          "color": "#EF553B",
          "pattern": {
           "shape": ""
          }
         },
         "name": "18-24",
         "offsetgroup": "18-24",
         "orientation": "v",
         "showlegend": true,
         "textposition": "auto",
         "type": "bar",
         "x": [
          "1-2 times a week",
          "3-4 times a week",
          "5 or more times a week",
          "Less than once a week"
         ],
         "xaxis": "x",
         "y": [
          4,
          1,
          2,
          3
         ],
         "yaxis": "y"
        },
        {
         "alignmentgroup": "True",
         "hovertemplate": "Age=25-34<br>Exercise Frequency=%{x}<br>Number of People=%{y}<extra></extra>",
         "legendgroup": "25-34",
         "marker": {
          "color": "#00cc96",
          "pattern": {
           "shape": ""
          }
         },
         "name": "25-34",
         "offsetgroup": "25-34",
         "orientation": "v",
         "showlegend": true,
         "textposition": "auto",
         "type": "bar",
         "x": [
          "1-2 times a week",
          "3-4 times a week",
          "Less than once a week"
         ],
         "xaxis": "x",
         "y": [
          1,
          4,
          1
         ],
         "yaxis": "y"
        },
        {
         "alignmentgroup": "True",
         "hovertemplate": "Age=35-44<br>Exercise Frequency=%{x}<br>Number of People=%{y}<extra></extra>",
         "legendgroup": "35-44",
         "marker": {
          "color": "#ab63fa",
          "pattern": {
           "shape": ""
          }
         },
         "name": "35-44",
         "offsetgroup": "35-44",
         "orientation": "v",
         "showlegend": true,
         "textposition": "auto",
         "type": "bar",
         "x": [
          "3-4 times a week",
          "5 or more times a week",
          "Less than once a week"
         ],
         "xaxis": "x",
         "y": [
          1,
          1,
          2
         ],
         "yaxis": "y"
        },
        {
         "alignmentgroup": "True",
         "hovertemplate": "Age=45-54<br>Exercise Frequency=%{x}<br>Number of People=%{y}<extra></extra>",
         "legendgroup": "45-54",
         "marker": {
          "color": "#FFA15A",
          "pattern": {
           "shape": ""
          }
         },
         "name": "45-54",
         "offsetgroup": "45-54",
         "orientation": "v",
         "showlegend": true,
         "textposition": "auto",
         "type": "bar",
         "x": [
          "1-2 times a week",
          "3-4 times a week",
          "Less than once a week"
         ],
         "xaxis": "x",
         "y": [
          1,
          1,
          1
         ],
         "yaxis": "y"
        },
        {
         "alignmentgroup": "True",
         "hovertemplate": "Age=55-64<br>Exercise Frequency=%{x}<br>Number of People=%{y}<extra></extra>",
         "legendgroup": "55-64",
         "marker": {
          "color": "#19d3f3",
          "pattern": {
           "shape": ""
          }
         },
         "name": "55-64",
         "offsetgroup": "55-64",
         "orientation": "v",
         "showlegend": true,
         "textposition": "auto",
         "type": "bar",
         "x": [
          "1-2 times a week",
          "5 or more times a week"
         ],
         "xaxis": "x",
         "y": [
          1,
          1
         ],
         "yaxis": "y"
        }
       ],
       "layout": {
        "barmode": "relative",
        "legend": {
         "title": {
          "text": "Age"
         },
         "tracegroupgap": 0
        },
        "template": {
         "data": {
          "bar": [
           {
            "error_x": {
             "color": "#2a3f5f"
            },
            "error_y": {
             "color": "#2a3f5f"
            },
            "marker": {
             "line": {
              "color": "#E5ECF6",
              "width": 0.5
             },
             "pattern": {
              "fillmode": "overlay",
              "size": 10,
              "solidity": 0.2
             }
            },
            "type": "bar"
           }
          ],
          "barpolar": [
           {
            "marker": {
             "line": {
              "color": "#E5ECF6",
              "width": 0.5
             },
             "pattern": {
              "fillmode": "overlay",
              "size": 10,
              "solidity": 0.2
             }
            },
            "type": "barpolar"
           }
          ],
          "carpet": [
           {
            "aaxis": {
             "endlinecolor": "#2a3f5f",
             "gridcolor": "white",
             "linecolor": "white",
             "minorgridcolor": "white",
             "startlinecolor": "#2a3f5f"
            },
            "baxis": {
             "endlinecolor": "#2a3f5f",
             "gridcolor": "white",
             "linecolor": "white",
             "minorgridcolor": "white",
             "startlinecolor": "#2a3f5f"
            },
            "type": "carpet"
           }
          ],
          "choropleth": [
           {
            "colorbar": {
             "outlinewidth": 0,
             "ticks": ""
            },
            "type": "choropleth"
           }
          ],
          "contour": [
           {
            "colorbar": {
             "outlinewidth": 0,
             "ticks": ""
            },
            "colorscale": [
             [
              0,
              "#0d0887"
             ],
             [
              0.1111111111111111,
              "#46039f"
             ],
             [
              0.2222222222222222,
              "#7201a8"
             ],
             [
              0.3333333333333333,
              "#9c179e"
             ],
             [
              0.4444444444444444,
              "#bd3786"
             ],
             [
              0.5555555555555556,
              "#d8576b"
             ],
             [
              0.6666666666666666,
              "#ed7953"
             ],
             [
              0.7777777777777778,
              "#fb9f3a"
             ],
             [
              0.8888888888888888,
              "#fdca26"
             ],
             [
              1,
              "#f0f921"
             ]
            ],
            "type": "contour"
           }
          ],
          "contourcarpet": [
           {
            "colorbar": {
             "outlinewidth": 0,
             "ticks": ""
            },
            "type": "contourcarpet"
           }
          ],
          "heatmap": [
           {
            "colorbar": {
             "outlinewidth": 0,
             "ticks": ""
            },
            "colorscale": [
             [
              0,
              "#0d0887"
             ],
             [
              0.1111111111111111,
              "#46039f"
             ],
             [
              0.2222222222222222,
              "#7201a8"
             ],
             [
              0.3333333333333333,
              "#9c179e"
             ],
             [
              0.4444444444444444,
              "#bd3786"
             ],
             [
              0.5555555555555556,
              "#d8576b"
             ],
             [
              0.6666666666666666,
              "#ed7953"
             ],
             [
              0.7777777777777778,
              "#fb9f3a"
             ],
             [
              0.8888888888888888,
              "#fdca26"
             ],
             [
              1,
              "#f0f921"
             ]
            ],
            "type": "heatmap"
           }
          ],
          "heatmapgl": [
           {
            "colorbar": {
             "outlinewidth": 0,
             "ticks": ""
            },
            "colorscale": [
             [
              0,
              "#0d0887"
             ],
             [
              0.1111111111111111,
              "#46039f"
             ],
             [
              0.2222222222222222,
              "#7201a8"
             ],
             [
              0.3333333333333333,
              "#9c179e"
             ],
             [
              0.4444444444444444,
              "#bd3786"
             ],
             [
              0.5555555555555556,
              "#d8576b"
             ],
             [
              0.6666666666666666,
              "#ed7953"
             ],
             [
              0.7777777777777778,
              "#fb9f3a"
             ],
             [
              0.8888888888888888,
              "#fdca26"
             ],
             [
              1,
              "#f0f921"
             ]
            ],
            "type": "heatmapgl"
           }
          ],
          "histogram": [
           {
            "marker": {
             "pattern": {
              "fillmode": "overlay",
              "size": 10,
              "solidity": 0.2
             }
            },
            "type": "histogram"
           }
          ],
          "histogram2d": [
           {
            "colorbar": {
             "outlinewidth": 0,
             "ticks": ""
            },
            "colorscale": [
             [
              0,
              "#0d0887"
             ],
             [
              0.1111111111111111,
              "#46039f"
             ],
             [
              0.2222222222222222,
              "#7201a8"
             ],
             [
              0.3333333333333333,
              "#9c179e"
             ],
             [
              0.4444444444444444,
              "#bd3786"
             ],
             [
              0.5555555555555556,
              "#d8576b"
             ],
             [
              0.6666666666666666,
              "#ed7953"
             ],
             [
              0.7777777777777778,
              "#fb9f3a"
             ],
             [
              0.8888888888888888,
              "#fdca26"
             ],
             [
              1,
              "#f0f921"
             ]
            ],
            "type": "histogram2d"
           }
          ],
          "histogram2dcontour": [
           {
            "colorbar": {
             "outlinewidth": 0,
             "ticks": ""
            },
            "colorscale": [
             [
              0,
              "#0d0887"
             ],
             [
              0.1111111111111111,
              "#46039f"
             ],
             [
              0.2222222222222222,
              "#7201a8"
             ],
             [
              0.3333333333333333,
              "#9c179e"
             ],
             [
              0.4444444444444444,
              "#bd3786"
             ],
             [
              0.5555555555555556,
              "#d8576b"
             ],
             [
              0.6666666666666666,
              "#ed7953"
             ],
             [
              0.7777777777777778,
              "#fb9f3a"
             ],
             [
              0.8888888888888888,
              "#fdca26"
             ],
             [
              1,
              "#f0f921"
             ]
            ],
            "type": "histogram2dcontour"
           }
          ],
          "mesh3d": [
           {
            "colorbar": {
             "outlinewidth": 0,
             "ticks": ""
            },
            "type": "mesh3d"
           }
          ],
          "parcoords": [
           {
            "line": {
             "colorbar": {
              "outlinewidth": 0,
              "ticks": ""
             }
            },
            "type": "parcoords"
           }
          ],
          "pie": [
           {
            "automargin": true,
            "type": "pie"
           }
          ],
          "scatter": [
           {
            "fillpattern": {
             "fillmode": "overlay",
             "size": 10,
             "solidity": 0.2
            },
            "type": "scatter"
           }
          ],
          "scatter3d": [
           {
            "line": {
             "colorbar": {
              "outlinewidth": 0,
              "ticks": ""
             }
            },
            "marker": {
             "colorbar": {
              "outlinewidth": 0,
              "ticks": ""
             }
            },
            "type": "scatter3d"
           }
          ],
          "scattercarpet": [
           {
            "marker": {
             "colorbar": {
              "outlinewidth": 0,
              "ticks": ""
             }
            },
            "type": "scattercarpet"
           }
          ],
          "scattergeo": [
           {
            "marker": {
             "colorbar": {
              "outlinewidth": 0,
              "ticks": ""
             }
            },
            "type": "scattergeo"
           }
          ],
          "scattergl": [
           {
            "marker": {
             "colorbar": {
              "outlinewidth": 0,
              "ticks": ""
             }
            },
            "type": "scattergl"
           }
          ],
          "scattermapbox": [
           {
            "marker": {
             "colorbar": {
              "outlinewidth": 0,
              "ticks": ""
             }
            },
            "type": "scattermapbox"
           }
          ],
          "scatterpolar": [
           {
            "marker": {
             "colorbar": {
              "outlinewidth": 0,
              "ticks": ""
             }
            },
            "type": "scatterpolar"
           }
          ],
          "scatterpolargl": [
           {
            "marker": {
             "colorbar": {
              "outlinewidth": 0,
              "ticks": ""
             }
            },
            "type": "scatterpolargl"
           }
          ],
          "scatterternary": [
           {
            "marker": {
             "colorbar": {
              "outlinewidth": 0,
              "ticks": ""
             }
            },
            "type": "scatterternary"
           }
          ],
          "surface": [
           {
            "colorbar": {
             "outlinewidth": 0,
             "ticks": ""
            },
            "colorscale": [
             [
              0,
              "#0d0887"
             ],
             [
              0.1111111111111111,
              "#46039f"
             ],
             [
              0.2222222222222222,
              "#7201a8"
             ],
             [
              0.3333333333333333,
              "#9c179e"
             ],
             [
              0.4444444444444444,
              "#bd3786"
             ],
             [
              0.5555555555555556,
              "#d8576b"
             ],
             [
              0.6666666666666666,
              "#ed7953"
             ],
             [
              0.7777777777777778,
              "#fb9f3a"
             ],
             [
              0.8888888888888888,
              "#fdca26"
             ],
             [
              1,
              "#f0f921"
             ]
            ],
            "type": "surface"
           }
          ],
          "table": [
           {
            "cells": {
             "fill": {
              "color": "#EBF0F8"
             },
             "line": {
              "color": "white"
             }
            },
            "header": {
             "fill": {
              "color": "#C8D4E3"
             },
             "line": {
              "color": "white"
             }
            },
            "type": "table"
           }
          ]
         },
         "layout": {
          "annotationdefaults": {
           "arrowcolor": "#2a3f5f",
           "arrowhead": 0,
           "arrowwidth": 1
          },
          "autotypenumbers": "strict",
          "coloraxis": {
           "colorbar": {
            "outlinewidth": 0,
            "ticks": ""
           }
          },
          "colorscale": {
           "diverging": [
            [
             0,
             "#8e0152"
            ],
            [
             0.1,
             "#c51b7d"
            ],
            [
             0.2,
             "#de77ae"
            ],
            [
             0.3,
             "#f1b6da"
            ],
            [
             0.4,
             "#fde0ef"
            ],
            [
             0.5,
             "#f7f7f7"
            ],
            [
             0.6,
             "#e6f5d0"
            ],
            [
             0.7,
             "#b8e186"
            ],
            [
             0.8,
             "#7fbc41"
            ],
            [
             0.9,
             "#4d9221"
            ],
            [
             1,
             "#276419"
            ]
           ],
           "sequential": [
            [
             0,
             "#0d0887"
            ],
            [
             0.1111111111111111,
             "#46039f"
            ],
            [
             0.2222222222222222,
             "#7201a8"
            ],
            [
             0.3333333333333333,
             "#9c179e"
            ],
            [
             0.4444444444444444,
             "#bd3786"
            ],
            [
             0.5555555555555556,
             "#d8576b"
            ],
            [
             0.6666666666666666,
             "#ed7953"
            ],
            [
             0.7777777777777778,
             "#fb9f3a"
            ],
            [
             0.8888888888888888,
             "#fdca26"
            ],
            [
             1,
             "#f0f921"
            ]
           ],
           "sequentialminus": [
            [
             0,
             "#0d0887"
            ],
            [
             0.1111111111111111,
             "#46039f"
            ],
            [
             0.2222222222222222,
             "#7201a8"
            ],
            [
             0.3333333333333333,
             "#9c179e"
            ],
            [
             0.4444444444444444,
             "#bd3786"
            ],
            [
             0.5555555555555556,
             "#d8576b"
            ],
            [
             0.6666666666666666,
             "#ed7953"
            ],
            [
             0.7777777777777778,
             "#fb9f3a"
            ],
            [
             0.8888888888888888,
             "#fdca26"
            ],
            [
             1,
             "#f0f921"
            ]
           ]
          },
          "colorway": [
           "#636efa",
           "#EF553B",
           "#00cc96",
           "#ab63fa",
           "#FFA15A",
           "#19d3f3",
           "#FF6692",
           "#B6E880",
           "#FF97FF",
           "#FECB52"
          ],
          "font": {
           "color": "#2a3f5f"
          },
          "geo": {
           "bgcolor": "white",
           "lakecolor": "white",
           "landcolor": "#E5ECF6",
           "showlakes": true,
           "showland": true,
           "subunitcolor": "white"
          },
          "hoverlabel": {
           "align": "left"
          },
          "hovermode": "closest",
          "mapbox": {
           "style": "light"
          },
          "paper_bgcolor": "white",
          "plot_bgcolor": "#E5ECF6",
          "polar": {
           "angularaxis": {
            "gridcolor": "white",
            "linecolor": "white",
            "ticks": ""
           },
           "bgcolor": "#E5ECF6",
           "radialaxis": {
            "gridcolor": "white",
            "linecolor": "white",
            "ticks": ""
           }
          },
          "scene": {
           "xaxis": {
            "backgroundcolor": "#E5ECF6",
            "gridcolor": "white",
            "gridwidth": 2,
            "linecolor": "white",
            "showbackground": true,
            "ticks": "",
            "zerolinecolor": "white"
           },
           "yaxis": {
            "backgroundcolor": "#E5ECF6",
            "gridcolor": "white",
            "gridwidth": 2,
            "linecolor": "white",
            "showbackground": true,
            "ticks": "",
            "zerolinecolor": "white"
           },
           "zaxis": {
            "backgroundcolor": "#E5ECF6",
            "gridcolor": "white",
            "gridwidth": 2,
            "linecolor": "white",
            "showbackground": true,
            "ticks": "",
            "zerolinecolor": "white"
           }
          },
          "shapedefaults": {
           "line": {
            "color": "#2a3f5f"
           }
          },
          "ternary": {
           "aaxis": {
            "gridcolor": "white",
            "linecolor": "white",
            "ticks": ""
           },
           "baxis": {
            "gridcolor": "white",
            "linecolor": "white",
            "ticks": ""
           },
           "bgcolor": "#E5ECF6",
           "caxis": {
            "gridcolor": "white",
            "linecolor": "white",
            "ticks": ""
           }
          },
          "title": {
           "x": 0.05
          },
          "xaxis": {
           "automargin": true,
           "gridcolor": "white",
           "linecolor": "white",
           "ticks": "",
           "title": {
            "standoff": 15
           },
           "zerolinecolor": "white",
           "zerolinewidth": 2
          },
          "yaxis": {
           "automargin": true,
           "gridcolor": "white",
           "linecolor": "white",
           "ticks": "",
           "title": {
            "standoff": 15
           },
           "zerolinecolor": "white",
           "zerolinewidth": 2
          }
         }
        },
        "title": {
         "text": "Exercise Frequency by Age"
        },
        "xaxis": {
         "anchor": "y",
         "categoryarray": [
          "Less than once a week",
          "1-2 times a week",
          "3-4 times a week",
          "5 or more times a week"
         ],
         "categoryorder": "array",
         "domain": [
          0,
          1
         ],
         "title": {
          "text": "Exercise Frequency"
         }
        },
        "yaxis": {
         "anchor": "x",
         "domain": [
          0,
          1
         ],
         "title": {
          "text": "Number of People"
         }
        }
       }
      }
     },
     "metadata": {},
     "output_type": "display_data"
    }
   ],
   "source": [
    "exercise_frequency_order = ['Less than once a week', '1-2 times a week', '3-4 times a week', '5 or more times a week']\n",
    "age_order = ['Under 18', '18-24', '25-34', '35-44', '45-54', '55-64']\n",
    "\n",
    "age_counts = df['Age'].value_counts().reindex(age_order)\n",
    "print(\"Count of each age group:\")\n",
    "print(age_counts)\n",
    "\n",
    "frequency_counts = df.groupby(['Exercise Frequency', 'Age']).size().reset_index(name='Count')\n",
    "exercise_frequency_order = ['Less than once a week', '1-2 times a week', '3-4 times a week', '5 or more times a week']\n",
    "age_order = ['Under 18', '18-24', '25-34', '35-44', '45-54', '55-64']\n",
    "\n",
    "fig = px.bar(\n",
    "    frequency_counts,\n",
    "    x='Exercise Frequency', \n",
    "    y='Count', \n",
    "    color='Age', \n",
    "    title='Exercise Frequency by Age',\n",
    "    labels={'Count': 'Number of People'},\n",
    "    category_orders={\n",
    "        'Exercise Frequency': exercise_frequency_order,\n",
    "        'Age': age_order\n",
    "    }\n",
    ")\n",
    "fig"
   ]
  },
  {
   "cell_type": "markdown",
   "metadata": {},
   "source": [
    "![Exercise Frequency by Age](https://github.com/user-attachments/assets/63ae8d65-8065-418d-ac29-57d40e8b42e7)"
   ]
  },
  {
   "cell_type": "markdown",
   "metadata": {},
   "source": [
    "As we can see above the plot, the largest age group by the amount of questionnaire answers is 18-24. This is why it is important to notice that while there are more 18-24 year olds exercising 5 or more times a week than most age groups, their average still falls under the 3-4 times a week threshold. Under 18 year olds seem to be exercising 3 or more times a week on average, which I believe was quite expected. 25-34 year olds have no representation in the 5 or more times a week category, but we can see that majority in that age group still exercise 3-4 times a week. The largest representation out of the 35-44 year olds fall in the \"Less than once a week\" category which is concerning, but half of the answerers in that age group do exercise atleast 3 times a week. 45-54 year olds seem to exercise on average 1-2 times a week. 55-64 year old only have two answerers, but those two people have an impressive average of 3-4 times a week. \n",
    "\n",
    "Based on this graph we can say that the correlation between age and exercise frequency is not significant. Each age group has spread across multiple categories within the exercise frequency category. "
   ]
  },
  {
   "cell_type": "code",
   "execution_count": 74,
   "metadata": {},
   "outputs": [
    {
     "name": "stdout",
     "output_type": "stream",
     "text": [
      "Count of each gender group:\n",
      "Gender\n",
      "Male                 13\n",
      "Female               15\n",
      "Prefer not to say     2\n",
      "Name: count, dtype: Int64\n"
     ]
    },
    {
     "data": {
      "application/vnd.plotly.v1+json": {
       "config": {
        "plotlyServerURL": "https://plot.ly"
       },
       "data": [
        {
         "alignmentgroup": "True",
         "hovertemplate": "Gender=Male<br>Exercise Frequency=%{x}<br>Number of People=%{y}<extra></extra>",
         "legendgroup": "Male",
         "marker": {
          "color": "#636efa",
          "pattern": {
           "shape": ""
          }
         },
         "name": "Male",
         "offsetgroup": "Male",
         "orientation": "v",
         "showlegend": true,
         "textposition": "auto",
         "type": "bar",
         "x": [
          "1-2 times a week",
          "3-4 times a week",
          "5 or more times a week",
          "Less than once a week"
         ],
         "xaxis": "x",
         "y": [
          5,
          2,
          3,
          3
         ],
         "yaxis": "y"
        },
        {
         "alignmentgroup": "True",
         "hovertemplate": "Gender=Female<br>Exercise Frequency=%{x}<br>Number of People=%{y}<extra></extra>",
         "legendgroup": "Female",
         "marker": {
          "color": "#EF553B",
          "pattern": {
           "shape": ""
          }
         },
         "name": "Female",
         "offsetgroup": "Female",
         "orientation": "v",
         "showlegend": true,
         "textposition": "auto",
         "type": "bar",
         "x": [
          "1-2 times a week",
          "3-4 times a week",
          "5 or more times a week",
          "Less than once a week"
         ],
         "xaxis": "x",
         "y": [
          3,
          6,
          2,
          4
         ],
         "yaxis": "y"
        },
        {
         "alignmentgroup": "True",
         "hovertemplate": "Gender=Prefer not to say<br>Exercise Frequency=%{x}<br>Number of People=%{y}<extra></extra>",
         "legendgroup": "Prefer not to say",
         "marker": {
          "color": "#00cc96",
          "pattern": {
           "shape": ""
          }
         },
         "name": "Prefer not to say",
         "offsetgroup": "Prefer not to say",
         "orientation": "v",
         "showlegend": true,
         "textposition": "auto",
         "type": "bar",
         "x": [
          "3-4 times a week",
          "5 or more times a week"
         ],
         "xaxis": "x",
         "y": [
          1,
          1
         ],
         "yaxis": "y"
        }
       ],
       "layout": {
        "barmode": "relative",
        "legend": {
         "title": {
          "text": "Gender"
         },
         "tracegroupgap": 0
        },
        "template": {
         "data": {
          "bar": [
           {
            "error_x": {
             "color": "#2a3f5f"
            },
            "error_y": {
             "color": "#2a3f5f"
            },
            "marker": {
             "line": {
              "color": "#E5ECF6",
              "width": 0.5
             },
             "pattern": {
              "fillmode": "overlay",
              "size": 10,
              "solidity": 0.2
             }
            },
            "type": "bar"
           }
          ],
          "barpolar": [
           {
            "marker": {
             "line": {
              "color": "#E5ECF6",
              "width": 0.5
             },
             "pattern": {
              "fillmode": "overlay",
              "size": 10,
              "solidity": 0.2
             }
            },
            "type": "barpolar"
           }
          ],
          "carpet": [
           {
            "aaxis": {
             "endlinecolor": "#2a3f5f",
             "gridcolor": "white",
             "linecolor": "white",
             "minorgridcolor": "white",
             "startlinecolor": "#2a3f5f"
            },
            "baxis": {
             "endlinecolor": "#2a3f5f",
             "gridcolor": "white",
             "linecolor": "white",
             "minorgridcolor": "white",
             "startlinecolor": "#2a3f5f"
            },
            "type": "carpet"
           }
          ],
          "choropleth": [
           {
            "colorbar": {
             "outlinewidth": 0,
             "ticks": ""
            },
            "type": "choropleth"
           }
          ],
          "contour": [
           {
            "colorbar": {
             "outlinewidth": 0,
             "ticks": ""
            },
            "colorscale": [
             [
              0,
              "#0d0887"
             ],
             [
              0.1111111111111111,
              "#46039f"
             ],
             [
              0.2222222222222222,
              "#7201a8"
             ],
             [
              0.3333333333333333,
              "#9c179e"
             ],
             [
              0.4444444444444444,
              "#bd3786"
             ],
             [
              0.5555555555555556,
              "#d8576b"
             ],
             [
              0.6666666666666666,
              "#ed7953"
             ],
             [
              0.7777777777777778,
              "#fb9f3a"
             ],
             [
              0.8888888888888888,
              "#fdca26"
             ],
             [
              1,
              "#f0f921"
             ]
            ],
            "type": "contour"
           }
          ],
          "contourcarpet": [
           {
            "colorbar": {
             "outlinewidth": 0,
             "ticks": ""
            },
            "type": "contourcarpet"
           }
          ],
          "heatmap": [
           {
            "colorbar": {
             "outlinewidth": 0,
             "ticks": ""
            },
            "colorscale": [
             [
              0,
              "#0d0887"
             ],
             [
              0.1111111111111111,
              "#46039f"
             ],
             [
              0.2222222222222222,
              "#7201a8"
             ],
             [
              0.3333333333333333,
              "#9c179e"
             ],
             [
              0.4444444444444444,
              "#bd3786"
             ],
             [
              0.5555555555555556,
              "#d8576b"
             ],
             [
              0.6666666666666666,
              "#ed7953"
             ],
             [
              0.7777777777777778,
              "#fb9f3a"
             ],
             [
              0.8888888888888888,
              "#fdca26"
             ],
             [
              1,
              "#f0f921"
             ]
            ],
            "type": "heatmap"
           }
          ],
          "heatmapgl": [
           {
            "colorbar": {
             "outlinewidth": 0,
             "ticks": ""
            },
            "colorscale": [
             [
              0,
              "#0d0887"
             ],
             [
              0.1111111111111111,
              "#46039f"
             ],
             [
              0.2222222222222222,
              "#7201a8"
             ],
             [
              0.3333333333333333,
              "#9c179e"
             ],
             [
              0.4444444444444444,
              "#bd3786"
             ],
             [
              0.5555555555555556,
              "#d8576b"
             ],
             [
              0.6666666666666666,
              "#ed7953"
             ],
             [
              0.7777777777777778,
              "#fb9f3a"
             ],
             [
              0.8888888888888888,
              "#fdca26"
             ],
             [
              1,
              "#f0f921"
             ]
            ],
            "type": "heatmapgl"
           }
          ],
          "histogram": [
           {
            "marker": {
             "pattern": {
              "fillmode": "overlay",
              "size": 10,
              "solidity": 0.2
             }
            },
            "type": "histogram"
           }
          ],
          "histogram2d": [
           {
            "colorbar": {
             "outlinewidth": 0,
             "ticks": ""
            },
            "colorscale": [
             [
              0,
              "#0d0887"
             ],
             [
              0.1111111111111111,
              "#46039f"
             ],
             [
              0.2222222222222222,
              "#7201a8"
             ],
             [
              0.3333333333333333,
              "#9c179e"
             ],
             [
              0.4444444444444444,
              "#bd3786"
             ],
             [
              0.5555555555555556,
              "#d8576b"
             ],
             [
              0.6666666666666666,
              "#ed7953"
             ],
             [
              0.7777777777777778,
              "#fb9f3a"
             ],
             [
              0.8888888888888888,
              "#fdca26"
             ],
             [
              1,
              "#f0f921"
             ]
            ],
            "type": "histogram2d"
           }
          ],
          "histogram2dcontour": [
           {
            "colorbar": {
             "outlinewidth": 0,
             "ticks": ""
            },
            "colorscale": [
             [
              0,
              "#0d0887"
             ],
             [
              0.1111111111111111,
              "#46039f"
             ],
             [
              0.2222222222222222,
              "#7201a8"
             ],
             [
              0.3333333333333333,
              "#9c179e"
             ],
             [
              0.4444444444444444,
              "#bd3786"
             ],
             [
              0.5555555555555556,
              "#d8576b"
             ],
             [
              0.6666666666666666,
              "#ed7953"
             ],
             [
              0.7777777777777778,
              "#fb9f3a"
             ],
             [
              0.8888888888888888,
              "#fdca26"
             ],
             [
              1,
              "#f0f921"
             ]
            ],
            "type": "histogram2dcontour"
           }
          ],
          "mesh3d": [
           {
            "colorbar": {
             "outlinewidth": 0,
             "ticks": ""
            },
            "type": "mesh3d"
           }
          ],
          "parcoords": [
           {
            "line": {
             "colorbar": {
              "outlinewidth": 0,
              "ticks": ""
             }
            },
            "type": "parcoords"
           }
          ],
          "pie": [
           {
            "automargin": true,
            "type": "pie"
           }
          ],
          "scatter": [
           {
            "fillpattern": {
             "fillmode": "overlay",
             "size": 10,
             "solidity": 0.2
            },
            "type": "scatter"
           }
          ],
          "scatter3d": [
           {
            "line": {
             "colorbar": {
              "outlinewidth": 0,
              "ticks": ""
             }
            },
            "marker": {
             "colorbar": {
              "outlinewidth": 0,
              "ticks": ""
             }
            },
            "type": "scatter3d"
           }
          ],
          "scattercarpet": [
           {
            "marker": {
             "colorbar": {
              "outlinewidth": 0,
              "ticks": ""
             }
            },
            "type": "scattercarpet"
           }
          ],
          "scattergeo": [
           {
            "marker": {
             "colorbar": {
              "outlinewidth": 0,
              "ticks": ""
             }
            },
            "type": "scattergeo"
           }
          ],
          "scattergl": [
           {
            "marker": {
             "colorbar": {
              "outlinewidth": 0,
              "ticks": ""
             }
            },
            "type": "scattergl"
           }
          ],
          "scattermapbox": [
           {
            "marker": {
             "colorbar": {
              "outlinewidth": 0,
              "ticks": ""
             }
            },
            "type": "scattermapbox"
           }
          ],
          "scatterpolar": [
           {
            "marker": {
             "colorbar": {
              "outlinewidth": 0,
              "ticks": ""
             }
            },
            "type": "scatterpolar"
           }
          ],
          "scatterpolargl": [
           {
            "marker": {
             "colorbar": {
              "outlinewidth": 0,
              "ticks": ""
             }
            },
            "type": "scatterpolargl"
           }
          ],
          "scatterternary": [
           {
            "marker": {
             "colorbar": {
              "outlinewidth": 0,
              "ticks": ""
             }
            },
            "type": "scatterternary"
           }
          ],
          "surface": [
           {
            "colorbar": {
             "outlinewidth": 0,
             "ticks": ""
            },
            "colorscale": [
             [
              0,
              "#0d0887"
             ],
             [
              0.1111111111111111,
              "#46039f"
             ],
             [
              0.2222222222222222,
              "#7201a8"
             ],
             [
              0.3333333333333333,
              "#9c179e"
             ],
             [
              0.4444444444444444,
              "#bd3786"
             ],
             [
              0.5555555555555556,
              "#d8576b"
             ],
             [
              0.6666666666666666,
              "#ed7953"
             ],
             [
              0.7777777777777778,
              "#fb9f3a"
             ],
             [
              0.8888888888888888,
              "#fdca26"
             ],
             [
              1,
              "#f0f921"
             ]
            ],
            "type": "surface"
           }
          ],
          "table": [
           {
            "cells": {
             "fill": {
              "color": "#EBF0F8"
             },
             "line": {
              "color": "white"
             }
            },
            "header": {
             "fill": {
              "color": "#C8D4E3"
             },
             "line": {
              "color": "white"
             }
            },
            "type": "table"
           }
          ]
         },
         "layout": {
          "annotationdefaults": {
           "arrowcolor": "#2a3f5f",
           "arrowhead": 0,
           "arrowwidth": 1
          },
          "autotypenumbers": "strict",
          "coloraxis": {
           "colorbar": {
            "outlinewidth": 0,
            "ticks": ""
           }
          },
          "colorscale": {
           "diverging": [
            [
             0,
             "#8e0152"
            ],
            [
             0.1,
             "#c51b7d"
            ],
            [
             0.2,
             "#de77ae"
            ],
            [
             0.3,
             "#f1b6da"
            ],
            [
             0.4,
             "#fde0ef"
            ],
            [
             0.5,
             "#f7f7f7"
            ],
            [
             0.6,
             "#e6f5d0"
            ],
            [
             0.7,
             "#b8e186"
            ],
            [
             0.8,
             "#7fbc41"
            ],
            [
             0.9,
             "#4d9221"
            ],
            [
             1,
             "#276419"
            ]
           ],
           "sequential": [
            [
             0,
             "#0d0887"
            ],
            [
             0.1111111111111111,
             "#46039f"
            ],
            [
             0.2222222222222222,
             "#7201a8"
            ],
            [
             0.3333333333333333,
             "#9c179e"
            ],
            [
             0.4444444444444444,
             "#bd3786"
            ],
            [
             0.5555555555555556,
             "#d8576b"
            ],
            [
             0.6666666666666666,
             "#ed7953"
            ],
            [
             0.7777777777777778,
             "#fb9f3a"
            ],
            [
             0.8888888888888888,
             "#fdca26"
            ],
            [
             1,
             "#f0f921"
            ]
           ],
           "sequentialminus": [
            [
             0,
             "#0d0887"
            ],
            [
             0.1111111111111111,
             "#46039f"
            ],
            [
             0.2222222222222222,
             "#7201a8"
            ],
            [
             0.3333333333333333,
             "#9c179e"
            ],
            [
             0.4444444444444444,
             "#bd3786"
            ],
            [
             0.5555555555555556,
             "#d8576b"
            ],
            [
             0.6666666666666666,
             "#ed7953"
            ],
            [
             0.7777777777777778,
             "#fb9f3a"
            ],
            [
             0.8888888888888888,
             "#fdca26"
            ],
            [
             1,
             "#f0f921"
            ]
           ]
          },
          "colorway": [
           "#636efa",
           "#EF553B",
           "#00cc96",
           "#ab63fa",
           "#FFA15A",
           "#19d3f3",
           "#FF6692",
           "#B6E880",
           "#FF97FF",
           "#FECB52"
          ],
          "font": {
           "color": "#2a3f5f"
          },
          "geo": {
           "bgcolor": "white",
           "lakecolor": "white",
           "landcolor": "#E5ECF6",
           "showlakes": true,
           "showland": true,
           "subunitcolor": "white"
          },
          "hoverlabel": {
           "align": "left"
          },
          "hovermode": "closest",
          "mapbox": {
           "style": "light"
          },
          "paper_bgcolor": "white",
          "plot_bgcolor": "#E5ECF6",
          "polar": {
           "angularaxis": {
            "gridcolor": "white",
            "linecolor": "white",
            "ticks": ""
           },
           "bgcolor": "#E5ECF6",
           "radialaxis": {
            "gridcolor": "white",
            "linecolor": "white",
            "ticks": ""
           }
          },
          "scene": {
           "xaxis": {
            "backgroundcolor": "#E5ECF6",
            "gridcolor": "white",
            "gridwidth": 2,
            "linecolor": "white",
            "showbackground": true,
            "ticks": "",
            "zerolinecolor": "white"
           },
           "yaxis": {
            "backgroundcolor": "#E5ECF6",
            "gridcolor": "white",
            "gridwidth": 2,
            "linecolor": "white",
            "showbackground": true,
            "ticks": "",
            "zerolinecolor": "white"
           },
           "zaxis": {
            "backgroundcolor": "#E5ECF6",
            "gridcolor": "white",
            "gridwidth": 2,
            "linecolor": "white",
            "showbackground": true,
            "ticks": "",
            "zerolinecolor": "white"
           }
          },
          "shapedefaults": {
           "line": {
            "color": "#2a3f5f"
           }
          },
          "ternary": {
           "aaxis": {
            "gridcolor": "white",
            "linecolor": "white",
            "ticks": ""
           },
           "baxis": {
            "gridcolor": "white",
            "linecolor": "white",
            "ticks": ""
           },
           "bgcolor": "#E5ECF6",
           "caxis": {
            "gridcolor": "white",
            "linecolor": "white",
            "ticks": ""
           }
          },
          "title": {
           "x": 0.05
          },
          "xaxis": {
           "automargin": true,
           "gridcolor": "white",
           "linecolor": "white",
           "ticks": "",
           "title": {
            "standoff": 15
           },
           "zerolinecolor": "white",
           "zerolinewidth": 2
          },
          "yaxis": {
           "automargin": true,
           "gridcolor": "white",
           "linecolor": "white",
           "ticks": "",
           "title": {
            "standoff": 15
           },
           "zerolinecolor": "white",
           "zerolinewidth": 2
          }
         }
        },
        "title": {
         "text": "Exercise Frequency by Gender"
        },
        "xaxis": {
         "anchor": "y",
         "categoryarray": [
          "Less than once a week",
          "1-2 times a week",
          "3-4 times a week",
          "5 or more times a week"
         ],
         "categoryorder": "array",
         "domain": [
          0,
          1
         ],
         "title": {
          "text": "Exercise Frequency"
         }
        },
        "yaxis": {
         "anchor": "x",
         "domain": [
          0,
          1
         ],
         "title": {
          "text": "Number of People"
         }
        }
       }
      }
     },
     "metadata": {},
     "output_type": "display_data"
    }
   ],
   "source": [
    "exercise_frequency_order = ['Less than once a week', '1-2 times a week', '3-4 times a week', '5 or more times a week']\n",
    "gender_order = ['Male', 'Female', 'Prefer not to say']\n",
    "\n",
    "gender_counts = df['Gender'].value_counts().reindex(gender_order) \n",
    "print(\"Count of each gender group:\")\n",
    "print(gender_counts)\n",
    "\n",
    "gender_frequency_counts = df.groupby(['Exercise Frequency', 'Gender']).size().reset_index(name='Count')\n",
    "\n",
    "fig = px.bar(\n",
    "    gender_frequency_counts,\n",
    "    x='Exercise Frequency', \n",
    "    y='Count', \n",
    "    color='Gender', \n",
    "    title='Exercise Frequency by Gender',\n",
    "    labels={'Count': 'Number of People'},\n",
    "    category_orders={\n",
    "        'Exercise Frequency': exercise_frequency_order,\n",
    "        'Gender': gender_order\n",
    "    }\n",
    ")\n",
    "fig"
   ]
  },
  {
   "cell_type": "markdown",
   "metadata": {},
   "source": [
    "![Exercise Frequenct by Gender](https://github.com/user-attachments/assets/326f29ad-789e-4881-97ff-e1f95c14ca98)"
   ]
  },
  {
   "cell_type": "markdown",
   "metadata": {},
   "source": [
    "The Excercise Frequencty is spread quite evenly based on gender as well. While slightly over half of the female answerers exercise more than 3 times a week, only around 40% of the men do so. Men balance this out a little bit by having more people in the \"1-2 times a week\" category and less people in the \"Less than once a week\" category than women. Two people preferred to not say their gender, but both of those people are exercise frequently. Overall the female gender is more active based on this questionnaire."
   ]
  },
  {
   "cell_type": "code",
   "execution_count": 71,
   "metadata": {},
   "outputs": [
    {
     "name": "stdout",
     "output_type": "stream",
     "text": [
      "Count of each education group:\n",
      "Education\n",
      "Doctorate or Professional    6\n",
      "Masters                      5\n",
      "Bachelors                    8\n",
      "High School                  6\n",
      "Less than high school        1\n",
      "Name: count, dtype: Int64\n"
     ]
    },
    {
     "data": {
      "application/vnd.plotly.v1+json": {
       "config": {
        "plotlyServerURL": "https://plot.ly"
       },
       "data": [
        {
         "alignmentgroup": "True",
         "hovertemplate": "Education=Doctorate or Professional<br>Data Tracking Frequency=%{x}<br>Number of People=%{y}<extra></extra>",
         "legendgroup": "Doctorate or Professional",
         "marker": {
          "color": "#636efa",
          "pattern": {
           "shape": ""
          }
         },
         "name": "Doctorate or Professional",
         "offsetgroup": "Doctorate or Professional",
         "orientation": "v",
         "showlegend": true,
         "textposition": "auto",
         "type": "bar",
         "x": [
          "Every day",
          "Every other day",
          "Once a month",
          "Once a week"
         ],
         "xaxis": "x",
         "y": [
          1,
          3,
          1,
          1
         ],
         "yaxis": "y"
        },
        {
         "alignmentgroup": "True",
         "hovertemplate": "Education=Masters<br>Data Tracking Frequency=%{x}<br>Number of People=%{y}<extra></extra>",
         "legendgroup": "Masters",
         "marker": {
          "color": "#EF553B",
          "pattern": {
           "shape": ""
          }
         },
         "name": "Masters",
         "offsetgroup": "Masters",
         "orientation": "v",
         "showlegend": true,
         "textposition": "auto",
         "type": "bar",
         "x": [
          "Every day",
          "Once a week",
          "Rarely"
         ],
         "xaxis": "x",
         "y": [
          1,
          3,
          1
         ],
         "yaxis": "y"
        },
        {
         "alignmentgroup": "True",
         "hovertemplate": "Education=Bachelors<br>Data Tracking Frequency=%{x}<br>Number of People=%{y}<extra></extra>",
         "legendgroup": "Bachelors",
         "marker": {
          "color": "#00cc96",
          "pattern": {
           "shape": ""
          }
         },
         "name": "Bachelors",
         "offsetgroup": "Bachelors",
         "orientation": "v",
         "showlegend": true,
         "textposition": "auto",
         "type": "bar",
         "x": [
          "Every day",
          "Every other day",
          "Once a month",
          "Once a week",
          "Rarely"
         ],
         "xaxis": "x",
         "y": [
          2,
          2,
          1,
          2,
          1
         ],
         "yaxis": "y"
        },
        {
         "alignmentgroup": "True",
         "hovertemplate": "Education=High School<br>Data Tracking Frequency=%{x}<br>Number of People=%{y}<extra></extra>",
         "legendgroup": "High School",
         "marker": {
          "color": "#ab63fa",
          "pattern": {
           "shape": ""
          }
         },
         "name": "High School",
         "offsetgroup": "High School",
         "orientation": "v",
         "showlegend": true,
         "textposition": "auto",
         "type": "bar",
         "x": [
          "Every day",
          "Every other day",
          "Once a month"
         ],
         "xaxis": "x",
         "y": [
          2,
          3,
          1
         ],
         "yaxis": "y"
        },
        {
         "alignmentgroup": "True",
         "hovertemplate": "Education=Less than high school<br>Data Tracking Frequency=%{x}<br>Number of People=%{y}<extra></extra>",
         "legendgroup": "Less than high school",
         "marker": {
          "color": "#FFA15A",
          "pattern": {
           "shape": ""
          }
         },
         "name": "Less than high school",
         "offsetgroup": "Less than high school",
         "orientation": "v",
         "showlegend": true,
         "textposition": "auto",
         "type": "bar",
         "x": [
          "Every day"
         ],
         "xaxis": "x",
         "y": [
          1
         ],
         "yaxis": "y"
        },
        {
         "alignmentgroup": "True",
         "hovertemplate": "Education=College or Associate<br>Data Tracking Frequency=%{x}<br>Number of People=%{y}<extra></extra>",
         "legendgroup": "College or Associate",
         "marker": {
          "color": "#19d3f3",
          "pattern": {
           "shape": ""
          }
         },
         "name": "College or Associate",
         "offsetgroup": "College or Associate",
         "orientation": "v",
         "showlegend": true,
         "textposition": "auto",
         "type": "bar",
         "x": [
          "Every day",
          "Once a week"
         ],
         "xaxis": "x",
         "y": [
          2,
          2
         ],
         "yaxis": "y"
        }
       ],
       "layout": {
        "barmode": "relative",
        "legend": {
         "title": {
          "text": "Education"
         },
         "tracegroupgap": 0
        },
        "template": {
         "data": {
          "bar": [
           {
            "error_x": {
             "color": "#2a3f5f"
            },
            "error_y": {
             "color": "#2a3f5f"
            },
            "marker": {
             "line": {
              "color": "#E5ECF6",
              "width": 0.5
             },
             "pattern": {
              "fillmode": "overlay",
              "size": 10,
              "solidity": 0.2
             }
            },
            "type": "bar"
           }
          ],
          "barpolar": [
           {
            "marker": {
             "line": {
              "color": "#E5ECF6",
              "width": 0.5
             },
             "pattern": {
              "fillmode": "overlay",
              "size": 10,
              "solidity": 0.2
             }
            },
            "type": "barpolar"
           }
          ],
          "carpet": [
           {
            "aaxis": {
             "endlinecolor": "#2a3f5f",
             "gridcolor": "white",
             "linecolor": "white",
             "minorgridcolor": "white",
             "startlinecolor": "#2a3f5f"
            },
            "baxis": {
             "endlinecolor": "#2a3f5f",
             "gridcolor": "white",
             "linecolor": "white",
             "minorgridcolor": "white",
             "startlinecolor": "#2a3f5f"
            },
            "type": "carpet"
           }
          ],
          "choropleth": [
           {
            "colorbar": {
             "outlinewidth": 0,
             "ticks": ""
            },
            "type": "choropleth"
           }
          ],
          "contour": [
           {
            "colorbar": {
             "outlinewidth": 0,
             "ticks": ""
            },
            "colorscale": [
             [
              0,
              "#0d0887"
             ],
             [
              0.1111111111111111,
              "#46039f"
             ],
             [
              0.2222222222222222,
              "#7201a8"
             ],
             [
              0.3333333333333333,
              "#9c179e"
             ],
             [
              0.4444444444444444,
              "#bd3786"
             ],
             [
              0.5555555555555556,
              "#d8576b"
             ],
             [
              0.6666666666666666,
              "#ed7953"
             ],
             [
              0.7777777777777778,
              "#fb9f3a"
             ],
             [
              0.8888888888888888,
              "#fdca26"
             ],
             [
              1,
              "#f0f921"
             ]
            ],
            "type": "contour"
           }
          ],
          "contourcarpet": [
           {
            "colorbar": {
             "outlinewidth": 0,
             "ticks": ""
            },
            "type": "contourcarpet"
           }
          ],
          "heatmap": [
           {
            "colorbar": {
             "outlinewidth": 0,
             "ticks": ""
            },
            "colorscale": [
             [
              0,
              "#0d0887"
             ],
             [
              0.1111111111111111,
              "#46039f"
             ],
             [
              0.2222222222222222,
              "#7201a8"
             ],
             [
              0.3333333333333333,
              "#9c179e"
             ],
             [
              0.4444444444444444,
              "#bd3786"
             ],
             [
              0.5555555555555556,
              "#d8576b"
             ],
             [
              0.6666666666666666,
              "#ed7953"
             ],
             [
              0.7777777777777778,
              "#fb9f3a"
             ],
             [
              0.8888888888888888,
              "#fdca26"
             ],
             [
              1,
              "#f0f921"
             ]
            ],
            "type": "heatmap"
           }
          ],
          "heatmapgl": [
           {
            "colorbar": {
             "outlinewidth": 0,
             "ticks": ""
            },
            "colorscale": [
             [
              0,
              "#0d0887"
             ],
             [
              0.1111111111111111,
              "#46039f"
             ],
             [
              0.2222222222222222,
              "#7201a8"
             ],
             [
              0.3333333333333333,
              "#9c179e"
             ],
             [
              0.4444444444444444,
              "#bd3786"
             ],
             [
              0.5555555555555556,
              "#d8576b"
             ],
             [
              0.6666666666666666,
              "#ed7953"
             ],
             [
              0.7777777777777778,
              "#fb9f3a"
             ],
             [
              0.8888888888888888,
              "#fdca26"
             ],
             [
              1,
              "#f0f921"
             ]
            ],
            "type": "heatmapgl"
           }
          ],
          "histogram": [
           {
            "marker": {
             "pattern": {
              "fillmode": "overlay",
              "size": 10,
              "solidity": 0.2
             }
            },
            "type": "histogram"
           }
          ],
          "histogram2d": [
           {
            "colorbar": {
             "outlinewidth": 0,
             "ticks": ""
            },
            "colorscale": [
             [
              0,
              "#0d0887"
             ],
             [
              0.1111111111111111,
              "#46039f"
             ],
             [
              0.2222222222222222,
              "#7201a8"
             ],
             [
              0.3333333333333333,
              "#9c179e"
             ],
             [
              0.4444444444444444,
              "#bd3786"
             ],
             [
              0.5555555555555556,
              "#d8576b"
             ],
             [
              0.6666666666666666,
              "#ed7953"
             ],
             [
              0.7777777777777778,
              "#fb9f3a"
             ],
             [
              0.8888888888888888,
              "#fdca26"
             ],
             [
              1,
              "#f0f921"
             ]
            ],
            "type": "histogram2d"
           }
          ],
          "histogram2dcontour": [
           {
            "colorbar": {
             "outlinewidth": 0,
             "ticks": ""
            },
            "colorscale": [
             [
              0,
              "#0d0887"
             ],
             [
              0.1111111111111111,
              "#46039f"
             ],
             [
              0.2222222222222222,
              "#7201a8"
             ],
             [
              0.3333333333333333,
              "#9c179e"
             ],
             [
              0.4444444444444444,
              "#bd3786"
             ],
             [
              0.5555555555555556,
              "#d8576b"
             ],
             [
              0.6666666666666666,
              "#ed7953"
             ],
             [
              0.7777777777777778,
              "#fb9f3a"
             ],
             [
              0.8888888888888888,
              "#fdca26"
             ],
             [
              1,
              "#f0f921"
             ]
            ],
            "type": "histogram2dcontour"
           }
          ],
          "mesh3d": [
           {
            "colorbar": {
             "outlinewidth": 0,
             "ticks": ""
            },
            "type": "mesh3d"
           }
          ],
          "parcoords": [
           {
            "line": {
             "colorbar": {
              "outlinewidth": 0,
              "ticks": ""
             }
            },
            "type": "parcoords"
           }
          ],
          "pie": [
           {
            "automargin": true,
            "type": "pie"
           }
          ],
          "scatter": [
           {
            "fillpattern": {
             "fillmode": "overlay",
             "size": 10,
             "solidity": 0.2
            },
            "type": "scatter"
           }
          ],
          "scatter3d": [
           {
            "line": {
             "colorbar": {
              "outlinewidth": 0,
              "ticks": ""
             }
            },
            "marker": {
             "colorbar": {
              "outlinewidth": 0,
              "ticks": ""
             }
            },
            "type": "scatter3d"
           }
          ],
          "scattercarpet": [
           {
            "marker": {
             "colorbar": {
              "outlinewidth": 0,
              "ticks": ""
             }
            },
            "type": "scattercarpet"
           }
          ],
          "scattergeo": [
           {
            "marker": {
             "colorbar": {
              "outlinewidth": 0,
              "ticks": ""
             }
            },
            "type": "scattergeo"
           }
          ],
          "scattergl": [
           {
            "marker": {
             "colorbar": {
              "outlinewidth": 0,
              "ticks": ""
             }
            },
            "type": "scattergl"
           }
          ],
          "scattermapbox": [
           {
            "marker": {
             "colorbar": {
              "outlinewidth": 0,
              "ticks": ""
             }
            },
            "type": "scattermapbox"
           }
          ],
          "scatterpolar": [
           {
            "marker": {
             "colorbar": {
              "outlinewidth": 0,
              "ticks": ""
             }
            },
            "type": "scatterpolar"
           }
          ],
          "scatterpolargl": [
           {
            "marker": {
             "colorbar": {
              "outlinewidth": 0,
              "ticks": ""
             }
            },
            "type": "scatterpolargl"
           }
          ],
          "scatterternary": [
           {
            "marker": {
             "colorbar": {
              "outlinewidth": 0,
              "ticks": ""
             }
            },
            "type": "scatterternary"
           }
          ],
          "surface": [
           {
            "colorbar": {
             "outlinewidth": 0,
             "ticks": ""
            },
            "colorscale": [
             [
              0,
              "#0d0887"
             ],
             [
              0.1111111111111111,
              "#46039f"
             ],
             [
              0.2222222222222222,
              "#7201a8"
             ],
             [
              0.3333333333333333,
              "#9c179e"
             ],
             [
              0.4444444444444444,
              "#bd3786"
             ],
             [
              0.5555555555555556,
              "#d8576b"
             ],
             [
              0.6666666666666666,
              "#ed7953"
             ],
             [
              0.7777777777777778,
              "#fb9f3a"
             ],
             [
              0.8888888888888888,
              "#fdca26"
             ],
             [
              1,
              "#f0f921"
             ]
            ],
            "type": "surface"
           }
          ],
          "table": [
           {
            "cells": {
             "fill": {
              "color": "#EBF0F8"
             },
             "line": {
              "color": "white"
             }
            },
            "header": {
             "fill": {
              "color": "#C8D4E3"
             },
             "line": {
              "color": "white"
             }
            },
            "type": "table"
           }
          ]
         },
         "layout": {
          "annotationdefaults": {
           "arrowcolor": "#2a3f5f",
           "arrowhead": 0,
           "arrowwidth": 1
          },
          "autotypenumbers": "strict",
          "coloraxis": {
           "colorbar": {
            "outlinewidth": 0,
            "ticks": ""
           }
          },
          "colorscale": {
           "diverging": [
            [
             0,
             "#8e0152"
            ],
            [
             0.1,
             "#c51b7d"
            ],
            [
             0.2,
             "#de77ae"
            ],
            [
             0.3,
             "#f1b6da"
            ],
            [
             0.4,
             "#fde0ef"
            ],
            [
             0.5,
             "#f7f7f7"
            ],
            [
             0.6,
             "#e6f5d0"
            ],
            [
             0.7,
             "#b8e186"
            ],
            [
             0.8,
             "#7fbc41"
            ],
            [
             0.9,
             "#4d9221"
            ],
            [
             1,
             "#276419"
            ]
           ],
           "sequential": [
            [
             0,
             "#0d0887"
            ],
            [
             0.1111111111111111,
             "#46039f"
            ],
            [
             0.2222222222222222,
             "#7201a8"
            ],
            [
             0.3333333333333333,
             "#9c179e"
            ],
            [
             0.4444444444444444,
             "#bd3786"
            ],
            [
             0.5555555555555556,
             "#d8576b"
            ],
            [
             0.6666666666666666,
             "#ed7953"
            ],
            [
             0.7777777777777778,
             "#fb9f3a"
            ],
            [
             0.8888888888888888,
             "#fdca26"
            ],
            [
             1,
             "#f0f921"
            ]
           ],
           "sequentialminus": [
            [
             0,
             "#0d0887"
            ],
            [
             0.1111111111111111,
             "#46039f"
            ],
            [
             0.2222222222222222,
             "#7201a8"
            ],
            [
             0.3333333333333333,
             "#9c179e"
            ],
            [
             0.4444444444444444,
             "#bd3786"
            ],
            [
             0.5555555555555556,
             "#d8576b"
            ],
            [
             0.6666666666666666,
             "#ed7953"
            ],
            [
             0.7777777777777778,
             "#fb9f3a"
            ],
            [
             0.8888888888888888,
             "#fdca26"
            ],
            [
             1,
             "#f0f921"
            ]
           ]
          },
          "colorway": [
           "#636efa",
           "#EF553B",
           "#00cc96",
           "#ab63fa",
           "#FFA15A",
           "#19d3f3",
           "#FF6692",
           "#B6E880",
           "#FF97FF",
           "#FECB52"
          ],
          "font": {
           "color": "#2a3f5f"
          },
          "geo": {
           "bgcolor": "white",
           "lakecolor": "white",
           "landcolor": "#E5ECF6",
           "showlakes": true,
           "showland": true,
           "subunitcolor": "white"
          },
          "hoverlabel": {
           "align": "left"
          },
          "hovermode": "closest",
          "mapbox": {
           "style": "light"
          },
          "paper_bgcolor": "white",
          "plot_bgcolor": "#E5ECF6",
          "polar": {
           "angularaxis": {
            "gridcolor": "white",
            "linecolor": "white",
            "ticks": ""
           },
           "bgcolor": "#E5ECF6",
           "radialaxis": {
            "gridcolor": "white",
            "linecolor": "white",
            "ticks": ""
           }
          },
          "scene": {
           "xaxis": {
            "backgroundcolor": "#E5ECF6",
            "gridcolor": "white",
            "gridwidth": 2,
            "linecolor": "white",
            "showbackground": true,
            "ticks": "",
            "zerolinecolor": "white"
           },
           "yaxis": {
            "backgroundcolor": "#E5ECF6",
            "gridcolor": "white",
            "gridwidth": 2,
            "linecolor": "white",
            "showbackground": true,
            "ticks": "",
            "zerolinecolor": "white"
           },
           "zaxis": {
            "backgroundcolor": "#E5ECF6",
            "gridcolor": "white",
            "gridwidth": 2,
            "linecolor": "white",
            "showbackground": true,
            "ticks": "",
            "zerolinecolor": "white"
           }
          },
          "shapedefaults": {
           "line": {
            "color": "#2a3f5f"
           }
          },
          "ternary": {
           "aaxis": {
            "gridcolor": "white",
            "linecolor": "white",
            "ticks": ""
           },
           "baxis": {
            "gridcolor": "white",
            "linecolor": "white",
            "ticks": ""
           },
           "bgcolor": "#E5ECF6",
           "caxis": {
            "gridcolor": "white",
            "linecolor": "white",
            "ticks": ""
           }
          },
          "title": {
           "x": 0.05
          },
          "xaxis": {
           "automargin": true,
           "gridcolor": "white",
           "linecolor": "white",
           "ticks": "",
           "title": {
            "standoff": 15
           },
           "zerolinecolor": "white",
           "zerolinewidth": 2
          },
          "yaxis": {
           "automargin": true,
           "gridcolor": "white",
           "linecolor": "white",
           "ticks": "",
           "title": {
            "standoff": 15
           },
           "zerolinecolor": "white",
           "zerolinewidth": 2
          }
         }
        },
        "title": {
         "text": "Data Tracking Frequency by Education"
        },
        "xaxis": {
         "anchor": "y",
         "categoryarray": [
          "Rarely",
          "Once a month",
          "Once a week",
          "Every other day",
          "Every day"
         ],
         "categoryorder": "array",
         "domain": [
          0,
          1
         ],
         "title": {
          "text": "Data Tracking Frequency"
         }
        },
        "yaxis": {
         "anchor": "x",
         "domain": [
          0,
          1
         ],
         "title": {
          "text": "Number of People"
         }
        }
       }
      }
     },
     "metadata": {},
     "output_type": "display_data"
    }
   ],
   "source": [
    "data_tracking_frequency = ['Rarely', 'Once a month', 'Once a week', 'Every other day', 'Every day']\n",
    "education_order = ['Doctorate or Professional', 'Masters', 'Bachelors', 'High School', 'Less than high school']\n",
    "\n",
    "education_counts = df['Education'].value_counts().reindex(education_order) \n",
    "print(\"Count of each education group:\")\n",
    "print(education_counts)\n",
    "\n",
    "education_frequency_counts = df.groupby(['Data Tracking Frequency', 'Education']).size().reset_index(name='Count')\n",
    "\n",
    "fig = px.bar(\n",
    "    education_frequency_counts,\n",
    "    x='Data Tracking Frequency', \n",
    "    y='Count', \n",
    "    color='Education', \n",
    "    title='Data Tracking Frequency by Education',\n",
    "    labels={'Count': 'Number of People'},\n",
    "    category_orders={\n",
    "        'Data Tracking Frequency': data_tracking_frequency,\n",
    "        'Education': education_order\n",
    "    }\n",
    ")\n",
    "\n",
    "fig.show();"
   ]
  },
  {
   "cell_type": "markdown",
   "metadata": {},
   "source": [
    "![Data Tracking Frequency by Education](https://github.com/user-attachments/assets/060c4b7a-a4f3-4b79-83c6-d101d920260a)"
   ]
  },
  {
   "cell_type": "markdown",
   "metadata": {},
   "source": [
    "My expectations for this graph was to see mostly people with higher education tracking their fitness data. This is because I believed higher educated people to be more in line with analytical thinking which would make them more interested in statistics. This hypothesis doesnt seem to hold based on this questionnaire as people with either doctorate or professional degrees track their data on average less than the people with only high school diplomas. There seems to be no correlation between education and data tracking frequency.  From the graph we can tell that most people in the questionnaire track their data atleast once a week, while the highest representation is in the \"Every day\" category."
   ]
  },
  {
   "cell_type": "markdown",
   "metadata": {},
   "source": [
    "#### Likert scale\n",
    "\n",
    "Plotting likert scale for (Strongly disagree - Strongly agree) scale responses."
   ]
  },
  {
   "cell_type": "code",
   "execution_count": 72,
   "metadata": {},
   "outputs": [
    {
     "data": {
      "text/plain": [
       "<Axes: xlabel='Number of Responses'>"
      ]
     },
     "execution_count": 72,
     "metadata": {},
     "output_type": "execute_result"
    },
    {
     "data": {
      "image/png": "[encoded data removed]",
      "text/plain": [
       "<Figure size 1200x1000 with 1 Axes>"
      ]
     },
     "metadata": {},
     "output_type": "display_data"
    }
   ],
   "source": [
    "selected_columns = ['Routine Impact',\n",
    "'Motivation Impact',\n",
    "'Enjoyment Improvement',\n",
    "'Engagement Level',\n",
    "'Community Improvement',\n",
    "'Goal Impact',\n",
    "'Health Impact',\n",
    "'Sleep Improvement',\n",
    "'Well-being Improvement',\n",
    "'Exercise Influence',\n",
    "'Fitness Purchase Influence',\n",
    "'Fitness Class Influence',\n",
    "'Diet Influence']\n",
    "likert = df[selected_columns]\n",
    "\n",
    "another_scale = \\\n",
    "    ['Strongly disagree',\n",
    "     'Disagree',\n",
    "     'Neutral',\n",
    "     'Agree',\n",
    "     'Strongly agree']\n",
    "\n",
    "plot_likert.plot_likert(likert, another_scale, figsize=(12, 10))"
   ]
  },
  {
   "cell_type": "markdown",
   "metadata": {},
   "source": [
    "#### Describing likert results\n",
    "\n",
    "Has the fitness wearable had a positive impact on your fitness routine? \n",
    "\n",
    "- A vast majority of people seem to think that there is a positive impact on their fitness routine but no one thinks that the effects are particularly strong.\n",
    "\n",
    "Has the fitness wearable helped you stay motivated to exercise?\n",
    "\n",
    "- Most people have strongly agreed that a fitness wearable has increased their motivation towards exercising. One person has strongly disagreed with this statement. \n",
    "\n",
    "Do you think that the fitness wearable has made exercising more enjoyable?\n",
    "\n",
    "- Around a third of the people strongly agree with the statement that exercising has become more enjoyable with a fitness wearable. Another third also agrees with it. One answerer has disagreed.\n",
    "\n",
    "Do you feel engaged with your fitness wearable?\n",
    "\n",
    "- Majority of people feel engaged wearing a fitness wearable. This majority has split in half between agreeing and strongly agreeing. Two people have disagreed.\n",
    "\n",
    "Using a fitness wearable makes you feel more connected to the fitness community?\n",
    "\n",
    "- No one has disagreed with feeling more connected to the fitness community while using a fitness wearable. Large portion feel neutral on the topic, but most people agree or strongly agree.\n",
    "\n",
    "Fitness wearable has helped you achieve your fitness goals?\n",
    "\n",
    "- On the Fitness wearables impact on achieving goals, the opinions seem to have been stronger as there are no neutral answers. Around half of the people agree with the statement. Two people disagree and the rest agree strongly on the topic.\n",
    "\n",
    "Fitness wearable has had a positive impact on your overall health?\n",
    "\n",
    "- While the opinions are yet again overwhelmingly positive, this topic has gained the most disagreeing votes on the poll. A lot of people seem to think that a fitness wearable does impact their health positively.\n",
    "\n",
    "Fitness wearable has improved your sleep patterns?\n",
    "\n",
    "- Again a vast majority of people see using a fitness wearable beneficial for their sleep patterns.\n",
    "\n",
    "Fitness wearable has improved your overall well-being?\n",
    "\n",
    "- The answers on the impact on well-being are quite similar to the question about health impact except that only one person disagrees. Most of the people agree or strongly agree with the statement. \n",
    "\n",
    "Using a fitness wearable has positively influenced your decision to exercise more?\n",
    "\n",
    "- No one has disagreed on the fitness wearable's positive influence on exercising more. Most people agree or strongly agree.\n",
    "\n",
    "Using a fitness wearable has positively influenced your decision to purchase other fitness-related products?\n",
    "\n",
    "- Two people have disagreed with purchasing other fitness-related products and a large portion are neutral on the topic. Most people have agreed.\n",
    "\n",
    "Using a fitness wearable has positively influenced your decision to join a gym or fitness class?\n",
    "\n",
    "- Around half of the people think the fitness wearable has influenced them to join a gym or fitness class. No one disagrees with the statement.\n",
    "\n",
    "Using a fitness wearable has positively influenced your decision to change your diet?\n",
    "\n",
    "- No one disagrees with the positive influence on diet either. Around one third of the people strongly agree and a little over a quarter agree.\n",
    "\n",
    "The overall consensus around the effects of a fitness wearable are overwhelmingly positive. Most people seem to think using one has a large positive influence on a lot of aspects on one's health. These include exercising, dieting, health and overall well-being. The fitness wearable seems to also work great as a motivator and as something that connects you with other people in the fitness world. Based on this data, a fitness wearable would be a worthy purchase for anyone seeking to improve their life quality through the means of fitness and lifestyle improvements."
   ]
  },
  {
   "cell_type": "markdown",
   "metadata": {},
   "source": [
    "## Final words\n",
    "\n",
    "This project was created mainly as a means of Python practice, but I chose this dataset as I am personally interested in fitness and often think how to motivate people around me that I care for. I myself bought a fitness wearable at the beginning of my fitness journey and saw major improvements in my motivation. It is extremely motivating as you are able to see your own progress in numbers and graphs instead of having to rely on gut feeling. I was pleased to see that a lot of other people agree with my thought on this subject matter and I can more confidently recommend fitness wearables to my friends and family. This project can also work as a proof that sometimes it is worth it to invest in some equipment in fitness even if it could feel like a waste of money at first. \n",
    "\n",
    "This is not to say that fitness wearables are compatible with everyone as we could see from the data. The group of subjects in this dataset was quite small, yet there were some people who disagreed with the positive effects of a fitness wearable. There were also a lot neutral answers, which means that some people had not realized a positive effect, but also had not felt negative thoughts towards the product.\n",
    "\n",
    "The dataset was small and quite straightforward, which made a more extensive analysis difficult. I do still think that this was a great learning project as pretty much all the values were non-numerical. This made it personally more challenging to think of ways to plot the answers. The likert scale library as well as the scrollable HTML tables were some great discoveries I made during this project. While this was a relatively simple and fun project about a personal interest, this gives me confidence to move onto some more diffcult topics and datasets in the future."
   ]
  }
 ],
 "metadata": {
  "kernelspec": {
   "display_name": "base",
   "language": "python",
   "name": "python3"
  },
  "language_info": {
   "codemirror_mode": {
    "name": "ipython",
    "version": 3
   },
   "file_extension": ".py",
   "mimetype": "text/x-python",
   "name": "python",
   "nbconvert_exporter": "python",
   "pygments_lexer": "ipython3",
   "version": "3.11.5"
  }
 },
 "nbformat": 4,
 "nbformat_minor": 2
}
