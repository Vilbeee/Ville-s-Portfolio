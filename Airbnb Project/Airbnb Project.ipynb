{
 "cells": [
  {
   "cell_type": "markdown",
   "metadata": {},
   "source": [
    "# Airbnb Project"
   ]
  },
  {
   "cell_type": "markdown",
   "metadata": {
    "vscode": {
     "languageId": "r"
    }
   },
   "source": [
    "## Introduction"
   ]
  },
  {
   "cell_type": "markdown",
   "metadata": {},
   "source": [
    "As someone who has a passion for travelling, Airbnb has been a crucial part in budgeting. It has become a common occurrence during my travels that I opt to stay at an Airbnb instead of a hotel due to their lower cost. In this project I will be viewing Airbnb listings in Stockholm. The Data was accessed through insideairbnb.com and the date of the data scraping was 29th of June, 2024.\n",
    "Data was preprocessed on Excel PowerQuery as data types had to be redetected after minor changes, some columns had to be removed and blanks as well as N/As had to be converted into nulls."
   ]
  },
  {
   "cell_type": "markdown",
   "metadata": {},
   "source": [
    "#### Project questions:\n",
    "\n",
    "- Is there a correlation between location and price?\n",
    "\n",
    "    - If so, how much does the location affect price. \n",
    "\n",
    "- What is the average price of an Airbnb in Stockholm?\n",
    "\n",
    "    - Which neighbourhood is the most expensive?\n",
    "\n",
    "    - Which room type is the most expensive?\n",
    "\n",
    "- Does the maximum capacity increase price?\n",
    "\n",
    "    - If so, how much does it affect the price?\n",
    "\n",
    "- Does superhost status affect the price?\n",
    "\n",
    "    - If so, how much does it affect the price?\n",
    "\n",
    "- Does superhost status affect the amount of reviews?\n",
    "\n",
    "- What are the average ratings for each review category?\n",
    "\n",
    "- Does superhost status affect the ratings?\n",
    "\n",
    "- Does host not being verified affect the ratings?\n",
    "\n",
    "- Does price affect the ratings?"
   ]
  },
  {
   "cell_type": "markdown",
   "metadata": {},
   "source": [
    "## Data analysis"
   ]
  },
  {
   "cell_type": "markdown",
   "metadata": {},
   "source": [
    "Data analysis will be conducted using R as a Jupyter notebook kernel."
   ]
  },
  {
   "cell_type": "markdown",
   "metadata": {},
   "source": [
    "#### Installing packages"
   ]
  },
  {
   "cell_type": "markdown",
   "metadata": {},
   "source": [
    "Firstly, I will be installing all of the necessary packages for this data analysis."
   ]
  },
  {
   "cell_type": "code",
   "execution_count": 35,
   "metadata": {
    "vscode": {
     "languageId": "r"
    }
   },
   "outputs": [],
   "source": [
    "#install.packages(\"openxlsx\")\n",
    "#install.packages(\"Hmisc\")\n",
    "#install.packages(\"htmltools\")\n",
    "#install.packages(\"ggplot2\")\n",
    "#install.packages(\"dplyr\")\n",
    "library(openxlsx)\n",
    "library(Hmisc)\n",
    "library(htmltools)\n",
    "library(ggplot2)\n",
    "library(dplyr)"
   ]
  },
  {
   "cell_type": "markdown",
   "metadata": {},
   "source": [
    "#### Importing data and checking its contents"
   ]
  },
  {
   "cell_type": "markdown",
   "metadata": {},
   "source": [
    "I will be then importing the data into R from an Excel file I have preprocessed in Power Query."
   ]
  },
  {
   "cell_type": "code",
   "execution_count": 23,
   "metadata": {
    "vscode": {
     "languageId": "r"
    }
   },
   "outputs": [
    {
     "data": {
      "text/html": [
       "<table class=\"dataframe\">\n",
       "<caption>A data.frame: 6 × 41</caption>\n",
       "<thead>\n",
       "\t<tr><th></th><th scope=col>id</th><th scope=col>name</th><th scope=col>host_id</th><th scope=col>host_name</th><th scope=col>host_since</th><th scope=col>host_response_time</th><th scope=col>host_response_rate</th><th scope=col>host_acceptance_rate</th><th scope=col>host_is_superhost</th><th scope=col>host_listings_count</th><th scope=col>⋯</th><th scope=col>review_scores_rating</th><th scope=col>review_scores_accuracy</th><th scope=col>review_scores_cleanliness</th><th scope=col>review_scores_checkin</th><th scope=col>review_scores_communication</th><th scope=col>review_scores_location</th><th scope=col>review_scores_value</th><th scope=col>instant_bookable</th><th scope=col>calculated_host_listings_count</th><th scope=col>reviews_per_month</th></tr>\n",
       "\t<tr><th></th><th scope=col>&lt;dbl&gt;</th><th scope=col>&lt;chr&gt;</th><th scope=col>&lt;dbl&gt;</th><th scope=col>&lt;chr&gt;</th><th scope=col>&lt;dbl&gt;</th><th scope=col>&lt;chr&gt;</th><th scope=col>&lt;dbl&gt;</th><th scope=col>&lt;dbl&gt;</th><th scope=col>&lt;chr&gt;</th><th scope=col>&lt;dbl&gt;</th><th scope=col>⋯</th><th scope=col>&lt;dbl&gt;</th><th scope=col>&lt;dbl&gt;</th><th scope=col>&lt;dbl&gt;</th><th scope=col>&lt;dbl&gt;</th><th scope=col>&lt;dbl&gt;</th><th scope=col>&lt;dbl&gt;</th><th scope=col>&lt;dbl&gt;</th><th scope=col>&lt;chr&gt;</th><th scope=col>&lt;dbl&gt;</th><th scope=col>&lt;dbl&gt;</th></tr>\n",
       "</thead>\n",
       "<tbody>\n",
       "\t<tr><th scope=row>1</th><td> 32984</td><td>City Hall, Stockholm                       </td><td>  53396</td><td>Chris    </td><td>40128</td><td>a few days or more</td><td>0.0</td><td>0</td><td>f</td><td>1</td><td>⋯</td><td>4.23</td><td>4.43</td><td>3.81</td><td>4.29</td><td>4.52</td><td>4.81</td><td>4.20</td><td>f</td><td>1</td><td>0.14</td></tr>\n",
       "\t<tr><th scope=row>2</th><td>155220</td><td>Stockholm, new spacoius villa              </td><td> 746396</td><td>Madeleine</td><td>40720</td><td>within a few hours</td><td>1.0</td><td>1</td><td>f</td><td>2</td><td>⋯</td><td>2.00</td><td>2.33</td><td>2.00</td><td>3.67</td><td>3.33</td><td>4.67</td><td>2.33</td><td>f</td><td>2</td><td>0.13</td></tr>\n",
       "\t<tr><th scope=row>3</th><td>164448</td><td>Double room in central Stockholm with Wi-Fi</td><td> 784312</td><td>Li       </td><td>40730</td><td>within an hour    </td><td>1.0</td><td>1</td><td>t</td><td>2</td><td>⋯</td><td>4.86</td><td>4.87</td><td>4.79</td><td>4.96</td><td>4.97</td><td>4.83</td><td>4.76</td><td>f</td><td>2</td><td>2.64</td></tr>\n",
       "\t<tr><th scope=row>4</th><td>220851</td><td>One room in appartement                    </td><td> 412283</td><td>Fredric  </td><td>40601</td><td>a few days or more</td><td>0.2</td><td>0</td><td>f</td><td>2</td><td>⋯</td><td>4.69</td><td>4.69</td><td>4.65</td><td>4.90</td><td>4.87</td><td>4.82</td><td>4.70</td><td>f</td><td>1</td><td>0.41</td></tr>\n",
       "\t<tr><th scope=row>5</th><td>238411</td><td>Cozy apartment in central Stockholm        </td><td>1250232</td><td>Mia      </td><td>40821</td><td>within an hour    </td><td>1.0</td><td>0</td><td>f</td><td>1</td><td>⋯</td><td>4.79</td><td>4.65</td><td>4.71</td><td>4.85</td><td>4.95</td><td>4.85</td><td>4.63</td><td>f</td><td>1</td><td>0.72</td></tr>\n",
       "\t<tr><th scope=row>6</th><td>242188</td><td>Single room in central Stockholm with Wi-Fi</td><td> 784312</td><td>Li       </td><td>40730</td><td>within an hour    </td><td>1.0</td><td>1</td><td>t</td><td>2</td><td>⋯</td><td>4.89</td><td>4.88</td><td>4.84</td><td>4.96</td><td>4.97</td><td>4.88</td><td>4.84</td><td>f</td><td>2</td><td>2.68</td></tr>\n",
       "</tbody>\n",
       "</table>\n"
      ],
      "text/latex": [
       "A data.frame: 6 × 41\n",
       "\\begin{tabular}{r|lllllllllllllllllllll}\n",
       "  & id & name & host\\_id & host\\_name & host\\_since & host\\_response\\_time & host\\_response\\_rate & host\\_acceptance\\_rate & host\\_is\\_superhost & host\\_listings\\_count & ⋯ & review\\_scores\\_rating & review\\_scores\\_accuracy & review\\_scores\\_cleanliness & review\\_scores\\_checkin & review\\_scores\\_communication & review\\_scores\\_location & review\\_scores\\_value & instant\\_bookable & calculated\\_host\\_listings\\_count & reviews\\_per\\_month\\\\\n",
       "  & <dbl> & <chr> & <dbl> & <chr> & <dbl> & <chr> & <dbl> & <dbl> & <chr> & <dbl> & ⋯ & <dbl> & <dbl> & <dbl> & <dbl> & <dbl> & <dbl> & <dbl> & <chr> & <dbl> & <dbl>\\\\\n",
       "\\hline\n",
       "\t1 &  32984 & City Hall, Stockholm                        &   53396 & Chris     & 40128 & a few days or more & 0.0 & 0 & f & 1 & ⋯ & 4.23 & 4.43 & 3.81 & 4.29 & 4.52 & 4.81 & 4.20 & f & 1 & 0.14\\\\\n",
       "\t2 & 155220 & Stockholm, new spacoius villa               &  746396 & Madeleine & 40720 & within a few hours & 1.0 & 1 & f & 2 & ⋯ & 2.00 & 2.33 & 2.00 & 3.67 & 3.33 & 4.67 & 2.33 & f & 2 & 0.13\\\\\n",
       "\t3 & 164448 & Double room in central Stockholm with Wi-Fi &  784312 & Li        & 40730 & within an hour     & 1.0 & 1 & t & 2 & ⋯ & 4.86 & 4.87 & 4.79 & 4.96 & 4.97 & 4.83 & 4.76 & f & 2 & 2.64\\\\\n",
       "\t4 & 220851 & One room in appartement                     &  412283 & Fredric   & 40601 & a few days or more & 0.2 & 0 & f & 2 & ⋯ & 4.69 & 4.69 & 4.65 & 4.90 & 4.87 & 4.82 & 4.70 & f & 1 & 0.41\\\\\n",
       "\t5 & 238411 & Cozy apartment in central Stockholm         & 1250232 & Mia       & 40821 & within an hour     & 1.0 & 0 & f & 1 & ⋯ & 4.79 & 4.65 & 4.71 & 4.85 & 4.95 & 4.85 & 4.63 & f & 1 & 0.72\\\\\n",
       "\t6 & 242188 & Single room in central Stockholm with Wi-Fi &  784312 & Li        & 40730 & within an hour     & 1.0 & 1 & t & 2 & ⋯ & 4.89 & 4.88 & 4.84 & 4.96 & 4.97 & 4.88 & 4.84 & f & 2 & 2.68\\\\\n",
       "\\end{tabular}\n"
      ],
      "text/markdown": [
       "\n",
       "A data.frame: 6 × 41\n",
       "\n",
       "| <!--/--> | id &lt;dbl&gt; | name &lt;chr&gt; | host_id &lt;dbl&gt; | host_name &lt;chr&gt; | host_since &lt;dbl&gt; | host_response_time &lt;chr&gt; | host_response_rate &lt;dbl&gt; | host_acceptance_rate &lt;dbl&gt; | host_is_superhost &lt;chr&gt; | host_listings_count &lt;dbl&gt; | ⋯ ⋯ | review_scores_rating &lt;dbl&gt; | review_scores_accuracy &lt;dbl&gt; | review_scores_cleanliness &lt;dbl&gt; | review_scores_checkin &lt;dbl&gt; | review_scores_communication &lt;dbl&gt; | review_scores_location &lt;dbl&gt; | review_scores_value &lt;dbl&gt; | instant_bookable &lt;chr&gt; | calculated_host_listings_count &lt;dbl&gt; | reviews_per_month &lt;dbl&gt; |\n",
       "|---|---|---|---|---|---|---|---|---|---|---|---|---|---|---|---|---|---|---|---|---|---|\n",
       "| 1 |  32984 | City Hall, Stockholm                        |   53396 | Chris     | 40128 | a few days or more | 0.0 | 0 | f | 1 | ⋯ | 4.23 | 4.43 | 3.81 | 4.29 | 4.52 | 4.81 | 4.20 | f | 1 | 0.14 |\n",
       "| 2 | 155220 | Stockholm, new spacoius villa               |  746396 | Madeleine | 40720 | within a few hours | 1.0 | 1 | f | 2 | ⋯ | 2.00 | 2.33 | 2.00 | 3.67 | 3.33 | 4.67 | 2.33 | f | 2 | 0.13 |\n",
       "| 3 | 164448 | Double room in central Stockholm with Wi-Fi |  784312 | Li        | 40730 | within an hour     | 1.0 | 1 | t | 2 | ⋯ | 4.86 | 4.87 | 4.79 | 4.96 | 4.97 | 4.83 | 4.76 | f | 2 | 2.64 |\n",
       "| 4 | 220851 | One room in appartement                     |  412283 | Fredric   | 40601 | a few days or more | 0.2 | 0 | f | 2 | ⋯ | 4.69 | 4.69 | 4.65 | 4.90 | 4.87 | 4.82 | 4.70 | f | 1 | 0.41 |\n",
       "| 5 | 238411 | Cozy apartment in central Stockholm         | 1250232 | Mia       | 40821 | within an hour     | 1.0 | 0 | f | 1 | ⋯ | 4.79 | 4.65 | 4.71 | 4.85 | 4.95 | 4.85 | 4.63 | f | 1 | 0.72 |\n",
       "| 6 | 242188 | Single room in central Stockholm with Wi-Fi |  784312 | Li        | 40730 | within an hour     | 1.0 | 1 | t | 2 | ⋯ | 4.89 | 4.88 | 4.84 | 4.96 | 4.97 | 4.88 | 4.84 | f | 2 | 2.68 |\n",
       "\n"
      ],
      "text/plain": [
       "  id     name                                        host_id host_name\n",
       "1  32984 City Hall, Stockholm                          53396 Chris    \n",
       "2 155220 Stockholm, new spacoius villa                746396 Madeleine\n",
       "3 164448 Double room in central Stockholm with Wi-Fi  784312 Li       \n",
       "4 220851 One room in appartement                      412283 Fredric  \n",
       "5 238411 Cozy apartment in central Stockholm         1250232 Mia      \n",
       "6 242188 Single room in central Stockholm with Wi-Fi  784312 Li       \n",
       "  host_since host_response_time host_response_rate host_acceptance_rate\n",
       "1 40128      a few days or more 0.0                0                   \n",
       "2 40720      within a few hours 1.0                1                   \n",
       "3 40730      within an hour     1.0                1                   \n",
       "4 40601      a few days or more 0.2                0                   \n",
       "5 40821      within an hour     1.0                0                   \n",
       "6 40730      within an hour     1.0                1                   \n",
       "  host_is_superhost host_listings_count ⋯ review_scores_rating\n",
       "1 f                 1                   ⋯ 4.23                \n",
       "2 f                 2                   ⋯ 2.00                \n",
       "3 t                 2                   ⋯ 4.86                \n",
       "4 f                 2                   ⋯ 4.69                \n",
       "5 f                 1                   ⋯ 4.79                \n",
       "6 t                 2                   ⋯ 4.89                \n",
       "  review_scores_accuracy review_scores_cleanliness review_scores_checkin\n",
       "1 4.43                   3.81                      4.29                 \n",
       "2 2.33                   2.00                      3.67                 \n",
       "3 4.87                   4.79                      4.96                 \n",
       "4 4.69                   4.65                      4.90                 \n",
       "5 4.65                   4.71                      4.85                 \n",
       "6 4.88                   4.84                      4.96                 \n",
       "  review_scores_communication review_scores_location review_scores_value\n",
       "1 4.52                        4.81                   4.20               \n",
       "2 3.33                        4.67                   2.33               \n",
       "3 4.97                        4.83                   4.76               \n",
       "4 4.87                        4.82                   4.70               \n",
       "5 4.95                        4.85                   4.63               \n",
       "6 4.97                        4.88                   4.84               \n",
       "  instant_bookable calculated_host_listings_count reviews_per_month\n",
       "1 f                1                              0.14             \n",
       "2 f                2                              0.13             \n",
       "3 f                2                              2.64             \n",
       "4 f                1                              0.41             \n",
       "5 f                1                              0.72             \n",
       "6 f                2                              2.68             "
      ]
     },
     "metadata": {},
     "output_type": "display_data"
    }
   ],
   "source": [
    "data <- read.xlsx(\"C:/Users/Ville/Documents/GitHub/Airbnb Project/Stockholm listings data.xlsx\", sheet = 1)\n",
    "head(data)"
   ]
  },
  {
   "cell_type": "code",
   "execution_count": 24,
   "metadata": {
    "vscode": {
     "languageId": "r"
    }
   },
   "outputs": [
    {
     "data": {
      "text/html": [
       "<!doctype html>\n",
       "<html>\n",
       "\t<head>\n",
       "\t\t<meta charset=\"utf-8\">\n",
       "\t\t\n",
       "\t</head>\n",
       "\t<body>\n",
       "\t\t<div style=\"height: 400px; overflow-y: scroll; white-space: pre;\">data \n",
       "\n",
       " 41  Variables      5400  Observations\n",
       "--------------------------------------------------------------------------------\n",
       "id \n",
       "        n   missing  distinct      Info      Mean       Gmd       .05       .10 \n",
       "     5400         0      5400         1 5.756e+17  5.35e+17 5.956e+06 1.298e+07 \n",
       "      .25       .50       .75       .90       .95 \n",
       "3.525e+07 7.354e+17 1.042e+18 1.151e+18 1.167e+18 \n",
       "\n",
       "lowest : 3.298400e+04 1.552200e+05 1.644480e+05 2.208510e+05 2.384110e+05\n",
       "highest: 1.189011e+18 1.189022e+18 1.189050e+18 1.189062e+18 1.189065e+18\n",
       "--------------------------------------------------------------------------------\n",
       "name \n",
       "       n  missing distinct \n",
       "    5400        0     5260 \n",
       "\n",
       "lowest : \"in the very heart of Stockholm\"                     \"Like staying at a friends place\" 1 min to subway    \"The Cave\" - Small charming apart. with loft bed     \"Townhouse\" vid Mariatorget                          # 10 Studiolägenhet utan fönster(no window)         \n",
       "highest: Östermalm High-Class Studio apartment                Östermalm i Stockholm                                Östermalmslägenhet                                   🥂*2IN1*2 Couples or big family/2bath2WC/Safe area🥂   整洁舒适大卧室带沙发和梳妆台。                      \n",
       "--------------------------------------------------------------------------------\n",
       "host_id \n",
       "        n   missing  distinct      Info      Mean       Gmd       .05       .10 \n",
       "     5400         0      4398         1 176706880  1.99e+08   3683677   7151414 \n",
       "      .25       .50       .75       .90       .95 \n",
       " 23062318  87752275 310835509 501170996 545544821 \n",
       "\n",
       "lowest :      4457      9842     18086     51400     53396\n",
       "highest: 585824572 585892851 585914282 585914636 586033900\n",
       "--------------------------------------------------------------------------------\n",
       "host_name \n",
       "       n  missing distinct \n",
       "    5400        0     1695 \n",
       "\n",
       "lowest : A         A &amp; E     A And K   Ab        Abdelkrim\n",
       "highest: Öystein   Артур     Даниил    Марина    程Patrick\n",
       "--------------------------------------------------------------------------------\n",
       "host_since \n",
       "       n  missing distinct     Info     Mean      Gmd      .05      .10 \n",
       "    5400        0     2601        1    42916     1421    41180    41457 \n",
       "     .25      .50      .75      .90      .95 \n",
       "   41952    42587    43789    44972    45238 \n",
       "\n",
       "lowest : 39773 39883 39953 40121 40128, highest: 45466 45467 45468 45469 45470\n",
       "--------------------------------------------------------------------------------\n",
       "host_response_time \n",
       "       n  missing distinct \n",
       "    3988     1412        4 \n",
       "                                                                   \n",
       "Value      a few days or more       within a day within a few hours\n",
       "Frequency                 286                815                853\n",
       "Proportion              0.072              0.204              0.214\n",
       "                             \n",
       "Value          within an hour\n",
       "Frequency                2034\n",
       "Proportion              0.510\n",
       "--------------------------------------------------------------------------------\n",
       "host_response_rate \n",
       "       n  missing distinct     Info     Mean      Gmd      .05      .10 \n",
       "    3988     1412       59    0.672   0.8989   0.1736     0.29     0.63 \n",
       "     .25      .50      .75      .90      .95 \n",
       "    0.98     1.00     1.00     1.00     1.00 \n",
       "\n",
       "lowest : 0    0.09 0.1  0.11 0.13, highest: 0.96 0.97 0.98 0.99 1   \n",
       "--------------------------------------------------------------------------------\n",
       "host_acceptance_rate \n",
       "       n  missing distinct     Info     Mean      Gmd      .05      .10 \n",
       "    4441      959       98    0.976   0.7079   0.3567     0.00     0.08 \n",
       "     .25      .50      .75      .90      .95 \n",
       "    0.50     0.86     1.00     1.00     1.00 \n",
       "\n",
       "lowest : 0    0.03 0.05 0.06 0.07, highest: 0.96 0.97 0.98 0.99 1   \n",
       "--------------------------------------------------------------------------------\n",
       "host_is_superhost \n",
       "       n  missing distinct \n",
       "    5367       33        2 \n",
       "                    \n",
       "Value         f    t\n",
       "Frequency  4509  858\n",
       "Proportion 0.84 0.16\n",
       "--------------------------------------------------------------------------------\n",
       "host_listings_count \n",
       "       n  missing distinct     Info     Mean      Gmd      .05      .10 \n",
       "    5400        0       33    0.711    8.884    14.93        1        1 \n",
       "     .25      .50      .75      .90      .95 \n",
       "       1        1        2        8       31 \n",
       "\n",
       "lowest :    1    2    3    4    5, highest:  492  549 1299 1420 2636\n",
       "--------------------------------------------------------------------------------\n",
       "host_total_listings_count \n",
       "       n  missing distinct     Info     Mean      Gmd      .05      .10 \n",
       "    5400        0       46    0.888    16.03    28.39        1        1 \n",
       "     .25      .50      .75      .90      .95 \n",
       "       1        2        3       12       49 \n",
       "\n",
       "lowest :    1    2    3    4    5, highest:  521  614 2128 5344 6436\n",
       "--------------------------------------------------------------------------------\n",
       "host_verifications \n",
       "       n  missing distinct \n",
       "    5400        0        5 \n",
       "\n",
       "['email', 'phone', 'work_email'] (504, 0.093), ['email', 'phone'] (4085,\n",
       "0.756), ['email'] (5, 0.001), ['phone', 'work_email'] (42, 0.008), ['phone']\n",
       "(764, 0.141)\n",
       "--------------------------------------------------------------------------------\n",
       "host_has_profile_pic \n",
       "       n  missing distinct \n",
       "    5400        0        2 \n",
       "                      \n",
       "Value          f     t\n",
       "Frequency    244  5156\n",
       "Proportion 0.045 0.955\n",
       "--------------------------------------------------------------------------------\n",
       "host_identity_verified \n",
       "       n  missing distinct \n",
       "    5400        0        2 \n",
       "                      \n",
       "Value          f     t\n",
       "Frequency    644  4756\n",
       "Proportion 0.119 0.881\n",
       "--------------------------------------------------------------------------------\n",
       "neighbourhood \n",
       "       n  missing distinct \n",
       "    5400        0       14 \n",
       "\n",
       "lowest : Bromma                 Enskede-Årsta-Vantörs  Farsta                 Hägersten-Liljeholmens Hässelby-Vällingby    \n",
       "highest: Skärholmens            Spånga-Tensta          Södermalms             Älvsjö                 Östermalms            \n",
       "--------------------------------------------------------------------------------\n",
       "property_type \n",
       "       n  missing distinct \n",
       "    5400        0       45 \n",
       "\n",
       "lowest : Boat                         Camper/RV                    Casa particular              Entire cabin                 Entire condo                \n",
       "highest: Shared room in rental unit   Shared room in tent          Shared room in vacation home Tent                         Tiny home                   \n",
       "--------------------------------------------------------------------------------\n",
       "room_type \n",
       "       n  missing distinct \n",
       "    5400        0        4 \n",
       "                                                                          \n",
       "Value      Entire home/apt      Hotel room    Private room     Shared room\n",
       "Frequency             4402              13             934              51\n",
       "Proportion           0.815           0.002           0.173           0.009\n",
       "--------------------------------------------------------------------------------\n",
       "accommodates \n",
       "       n  missing distinct     Info     Mean      Gmd      .05      .10 \n",
       "    5400        0       15    0.945    3.442    2.044        1        2 \n",
       "     .25      .50      .75      .90      .95 \n",
       "       2        3        4        6        7 \n",
       "                                                                            \n",
       "Value          1     2     3     4     5     6     7     8     9    10    11\n",
       "Frequency    475  1880   700  1111   414   469   123   147    24    25     8\n",
       "Proportion 0.088 0.348 0.130 0.206 0.077 0.087 0.023 0.027 0.004 0.005 0.001\n",
       "                                  \n",
       "Value         12    13    14    16\n",
       "Frequency     10     3     1    10\n",
       "Proportion 0.002 0.001 0.000 0.002\n",
       "\n",
       "For the frequency table, variable is rounded to the nearest 0\n",
       "--------------------------------------------------------------------------------\n",
       "bathrooms \n",
       "       n  missing distinct \n",
       "    5389       11       15 \n",
       "                                                                            \n",
       "Value          0   0,5     1   1.5    12     2   2.5     3   3.5     4   4.5\n",
       "Frequency     20    56  3552   887     4   589   145    88    10    11     5\n",
       "Proportion 0.004 0.010 0.659 0.165 0.001 0.109 0.027 0.016 0.002 0.002 0.001\n",
       "                                  \n",
       "Value        5.5     6   7.5     9\n",
       "Frequency      1    13     1     7\n",
       "Proportion 0.000 0.002 0.000 0.001\n",
       "--------------------------------------------------------------------------------\n",
       "bedrooms \n",
       "       n  missing distinct     Info     Mean      Gmd \n",
       "    5160      240        9    0.811    1.698    1.129 \n",
       "                                                                \n",
       "Value          0     1     2     3     4     5     6     7    12\n",
       "Frequency    203  2921   926   630   349   108    16     3     4\n",
       "Proportion 0.039 0.566 0.179 0.122 0.068 0.021 0.003 0.001 0.001\n",
       "\n",
       "For the frequency table, variable is rounded to the nearest 0\n",
       "--------------------------------------------------------------------------------\n",
       "beds \n",
       "       n  missing distinct     Info     Mean      Gmd      .05      .10 \n",
       "    4059     1341       17    0.932    1.943    1.685        0        0 \n",
       "     .25      .50      .75      .90      .95 \n",
       "       1        1        3        4        5 \n",
       "                                                                            \n",
       "Value          0     1     2     3     4     5     6     7     8     9    10\n",
       "Frequency    541  1541   823   513   349   153    77    31    14     2     6\n",
       "Proportion 0.133 0.380 0.203 0.126 0.086 0.038 0.019 0.008 0.003 0.000 0.001\n",
       "                                              \n",
       "Value         11    12    14    17    18    26\n",
       "Frequency      3     2     1     1     1     1\n",
       "Proportion 0.001 0.000 0.000 0.000 0.000 0.000\n",
       "\n",
       "For the frequency table, variable is rounded to the nearest 0\n",
       "--------------------------------------------------------------------------------\n",
       "amenities \n",
       "       n  missing distinct \n",
       "    5393        7     5066 \n",
       "\n",
       "lowest : [\"42 inch HDTV with Disney+, Apple TV, Amazon Prime Video, Netflix, HBO Max\", \"Elevator\", \"Hot water\", \"Extra pillows and blankets\", \"Outdoor playground\", \"Garden view\", \"Hair dryer\", \"Cooking basics\", \"Bathtub\", \"Smoking allowed\", \"Dining table\", \"Refrigerator\", \"Beach access \\u2013 Beachfront\", \"Smoke alarm\", \"Dishes and silverware\", \"Hot water kettle\", \"Lockbox\", \"Coffee\", \"Self check-in\", \"Free parking on premises\", \"Bed linens\", \"Piano\", \"Body soap\", \"Courtyard view\", \"Fast wifi \\u2013 483 Mbps\", \"Radiant heating\", \"Kitchen\", \"Freezer\", \"Board games\", \"Oven\", \"Private patio or balcony\", \"Microwave\", \"Pets allowed\", \"Books and reading material\", \"Dishwasher\", \"Coffee maker\", \"Essentials\", \"Stove\", \"Shower gel\", \"Lake access\", \"Backyard\", \"Central heating\", \"Sound system with aux\", \"Long term stays allowed\", \"Wine glasses\", \"Hangers\", \"Clothing storage: closet and wardrobe\"]                                                                                                                                                                                                                                                                                                         [\"45 inch HDTV with Amazon Prime Video, Apple TV, HBO Max\", \"BBQ grill\", \"Hot water\", \"Extra pillows and blankets\", \"Stort kylsk\\u00e5p, frys under huset refrigerator\", \"Hair dryer\", \"Wifi\", \"Cooking basics\", \"Dining table\", \"Smoke alarm\", \"Dishes and silverware\", \"Luggage dropoff allowed\", \"Room-darkening shades\", \"Hot water kettle\", \"Lockbox\", \"Self check-in\", \"Free washer\", \"Free parking on premises\", \"Dryer\", \"Bed linens\", \"Sound system\", \"Private backyard \\u2013 Fully fenced\", \"Kitchen\", \"Cleaning products\", \"Iron\", \"Freezer\", \"Toaster\", \"Oven\", \"Private patio or balcony\", \"Private entrance\", \"Clothing storage: closet\", \"Microwave\", \"Pets allowed\", \"Dishwasher\", \"Coffee maker\", \"Crib\", \"Essentials\", \"Fire extinguisher\", \"Stove\", \"Lake access\", \"Heating\", \"Long term stays allowed\", \"Wine glasses\", \"Shared beach access\", \"Free street parking\", \"Hangers\"]                                                                                                                                                                                                                                                                                                                              [\"48 inch HDTV with Netflix\", \"BBQ grill\", \"Hot water\", \"Elevator\", \"Garden view\", \"Washer\", \"Hair dryer\", \"Wifi\", \"Smoking allowed\", \"Refrigerator\", \"Smoke alarm\", \"Harbor view\", \"Canal view\", \"Outdoor furniture\", \"Ocean view\", \"Marina view\", \"Dryer\", \"Courtyard view\", \"Kitchen\", \"Shared backyard \\u2013 Not fully fenced\", \"Private patio or balcony\", \"Lake view\", \"Essentials\", \"Heating\", \"Hangers\", \"Shampoo\"]                                                                                                                                                                                                                                                                                                                                                                                                                                                                                                                                                                                                                                                                                                                                                                                                        [\"50 inch HDTV with Apple TV, Netflix, standard cable\", \"Hot water\", \"Hair dryer\", \"Wifi\", \"Dining table\", \"Refrigerator\", \"Smoke alarm\", \"Dishes and silverware\", \"Miele electric stove\", \"Bed linens\", \"City skyline view\", \"Courtyard view\", \"Body soap\", \"Cleaning products\", \"Iron\", \"Kitchen\", \"Freezer\", \"Toaster\", \"Oven\", \"Private patio or balcony\", \"Free washer \\u2013 In unit\", \"Private entrance\", \"Dishwasher\", \"Essentials\", \"Shower gel\", \"Backyard\", \"Central heating\", \"Dedicated workspace\", \"Coffee maker: drip coffee maker\", \"Wine glasses\", \"Exterior security cameras on property\", \"Free dryer \\u2013 In unit\", \"Clothing storage: wardrobe\", \"Hangers\", \"Shampoo\"]                                                                                                                                                                                                                                                                                                                                                                                                                                                                                                                                      [\"55 inch HDTV with standard cable, Amazon Prime Video, Netflix, HBO Max\", \"Arcade games\", \"BBQ grill\", \"Hot water\", \"Extra pillows and blankets\", \"Outdoor playground\", \"Garden view\", \"First aid kit\", \"Hair dryer\", \"Wifi\", \"Cooking basics\", \"Stainless steel oven\", \"Dining table\", \"Refrigerator\", \"Smoke alarm\", \"Drying rack for clothing\", \"Dishes and silverware\", \"Outdoor furniture\", \"Luggage dropoff allowed\", \"Hot water kettle\", \"Bluetooth sound system\", \"Coffee\", \"Dove body soap\", \"Bed linens\", \"Baking sheet\", \"Courtyard view\", \"Kitchen\", \"Cleaning products\", \"Iron\", \"Freezer\", \"Toaster\", \"Outlet covers\", \"Game console: PS3\", \"Induction stove\", \"Ethernet connection\", \"Free washer \\u2013 In unit\", \"Blender\", \"Private patio or balcony\", \"Window guards\", \"Microwave\", \"Host greets you\", \"Pets allowed\", \"Books and reading material\", \"Dishwasher\", \"Coffee maker\", \"Fire pit\", \"Essentials\", \"Fire extinguisher\", \"Central heating\", \"Outdoor dining area\", \"Dedicated workspace\", \"Long term stays allowed\", \"Wine glasses\", \"Carbon monoxide alarm\", \"Free dryer \\u2013 In unit\", \"Pocket wifi\", \"Shared backyard \\u2013 Fully fenced\", \"Hangers\", \"Clothing storage: closet and wardrobe\"]\n",
       "highest: [\"Wifi\", \"TV\", \"Lock on bedroom door\", \"Kitchen\"]                                                                                                                                                                                                                                                                                                                                                                                                                                                                                                                                                                                                                                                                                                                                                                                                                                                                                                                                                                                                                                                                                                                                                                                    [\"Wifi\", \"TV\", \"Smoke alarm\", \"Kitchen\"]                                                                                                                                                                                                                                                                                                                                                                                                                                                                                                                                                                                                                                                                                                                                                                                                                                                                                                                                                                                                                                                                                                                                                                                             [\"Wifi\", \"TV\"]                                                                                                                                                                                                                                                                                                                                                                                                                                                                                                                                                                                                                                                                                                                                                                                                                                                                                                                                                                                                                                                                                                                                                                                                                       [\"Wifi\"]                                                                                                                                                                                                                                                                                                                                                                                                                                                                                                                                                                                                                                                                                                                                                                                                                                                                                                                                                                                                                                                                                                                                                                                                                             [\"Xiaomi Mi 4K Laser Projector Bluetooth sound system\", \"Hot water\", \"Extra pillows and blankets\", \"First aid kit\", \"Washer\", \"Hair dryer\", \"Wifi\", \"Refrigerator\", \"Smoke alarm\", \"HDTV with Chromecast\", \"Room-darkening shades\", \"Hot water kettle\", \"Coffee\", \"Bed linens\", \"Kitchen\", \"Freezer\", \"Radiant heating\", \"Iron\", \"Cleaning products\", \"Toaster\", \"Books and reading material\", \"Coffee maker\", \"Clothing storage\", \"Paid street parking off premises\", \"Dedicated workspace\", \"Wine glasses\", \"Hangers\"]                                                                                                                                                                                                                                                                                                                                                                                                                                                                                                                                                                                                                                                                                                            \n",
       "--------------------------------------------------------------------------------\n",
       "price \n",
       "       n  missing distinct     Info     Mean      Gmd      .05      .10 \n",
       "    4020     1380     1336        1     1864     1581    414.9    552.9 \n",
       "     .25      .50      .75      .90      .95 \n",
       "   868.5   1329.5   2173.0   3271.2   4000.0 \n",
       "\n",
       "lowest :    105    146    170    180    182, highest:  16000  20000  25000  35000 500000\n",
       "--------------------------------------------------------------------------------\n",
       "minimum_nights \n",
       "       n  missing distinct     Info     Mean      Gmd      .05      .10 \n",
       "    5400        0       62    0.962    6.902    9.551        1        1 \n",
       "     .25      .50      .75      .90      .95 \n",
       "       1        3        5        7       21 \n",
       "\n",
       "lowest :   1   2   3   4   5, highest: 330 365 399 500 730\n",
       "--------------------------------------------------------------------------------\n",
       "maximum_nights \n",
       "       n  missing distinct     Info     Mean      Gmd      .05      .10 \n",
       "    5400        0      198     0.96    348.8    396.6      7.0     12.9 \n",
       "     .25      .50      .75      .90      .95 \n",
       "    30.0    365.0    365.0   1125.0   1125.0 \n",
       "\n",
       "lowest :    1    2    3    4    5, highest: 1000 1095 1121 1124 1125\n",
       "--------------------------------------------------------------------------------\n",
       "has_availability \n",
       "       n  missing distinct \n",
       "    5205      195        2 \n",
       "                      \n",
       "Value          f     t\n",
       "Frequency      3  5202\n",
       "Proportion 0.001 0.999\n",
       "--------------------------------------------------------------------------------\n",
       "availability_30 \n",
       "       n  missing distinct     Info     Mean      Gmd      .05      .10 \n",
       "    5400        0       31     0.97    10.54    11.89        0        0 \n",
       "     .25      .50      .75      .90      .95 \n",
       "       0        7       20       29       29 \n",
       "\n",
       "lowest :  0  1  2  3  4, highest: 26 27 28 29 30\n",
       "--------------------------------------------------------------------------------\n",
       "availability_60 \n",
       "       n  missing distinct     Info     Mean      Gmd      .05      .10 \n",
       "    5400        0       61    0.982     20.8    23.11        0        0 \n",
       "     .25      .50      .75      .90      .95 \n",
       "       0       14       37       58       59 \n",
       "\n",
       "lowest :  0  1  2  3  4, highest: 56 57 58 59 60\n",
       "--------------------------------------------------------------------------------\n",
       "availability_90 \n",
       "       n  missing distinct     Info     Mean      Gmd      .05      .10 \n",
       "    5400        0       91    0.986     32.8    35.45        0        0 \n",
       "     .25      .50      .75      .90      .95 \n",
       "       1       23       58       87       89 \n",
       "\n",
       "lowest :  0  1  2  3  4, highest: 86 87 88 89 90\n",
       "--------------------------------------------------------------------------------\n",
       "availability_365 \n",
       "       n  missing distinct     Info     Mean      Gmd      .05      .10 \n",
       "    5400        0      366    0.992      129    140.1        0        0 \n",
       "     .25      .50      .75      .90      .95 \n",
       "       7       87      248      328      358 \n",
       "\n",
       "lowest :   0   1   2   3   4, highest: 361 362 363 364 365\n",
       "--------------------------------------------------------------------------------\n",
       "number_of_reviews \n",
       "       n  missing distinct     Info     Mean      Gmd      .05      .10 \n",
       "    5400        0      279    0.984    23.78    37.62      0.0      0.0 \n",
       "     .25      .50      .75      .90      .95 \n",
       "     1.0      5.0     19.0     60.0    124.1 \n",
       "\n",
       "lowest :    0    1    2    3    4, highest:  619  646  732  746 1068\n",
       "--------------------------------------------------------------------------------\n",
       "review_scores_rating \n",
       "       n  missing distinct     Info     Mean      Gmd      .05      .10 \n",
       "    4104     1296      106    0.923    4.816   0.2606     4.31     4.50 \n",
       "     .25      .50      .75      .90      .95 \n",
       "    4.75     4.93     5.00     5.00     5.00 \n",
       "\n",
       "lowest : 1    2    2.33 2.5  2.8 , highest: 4.96 4.97 4.98 4.99 5   \n",
       "--------------------------------------------------------------------------------\n",
       "review_scores_accuracy \n",
       "       n  missing distinct     Info     Mean      Gmd      .05      .10 \n",
       "    4099     1301       99    0.928    4.823   0.2513     4.33     4.51 \n",
       "     .25      .50      .75      .90      .95 \n",
       "    4.77     4.93     5.00     5.00     5.00 \n",
       "\n",
       "lowest : 1    2    2.33 2.5  2.67, highest: 4.96 4.97 4.98 4.99 5   \n",
       "--------------------------------------------------------------------------------\n",
       "review_scores_cleanliness \n",
       "       n  missing distinct     Info     Mean      Gmd      .05      .10 \n",
       "    4099     1301      127    0.949    4.754   0.3351     4.00     4.36 \n",
       "     .25      .50      .75      .90      .95 \n",
       "    4.67     4.89     5.00     5.00     5.00 \n",
       "\n",
       "lowest : 1    1.5  2    2.33 2.5 , highest: 4.96 4.97 4.98 4.99 5   \n",
       "--------------------------------------------------------------------------------\n",
       "review_scores_checkin \n",
       "       n  missing distinct     Info     Mean      Gmd      .05      .10 \n",
       "    4099     1301       91     0.88    4.868   0.2025     4.50     4.67 \n",
       "     .25      .50      .75      .90      .95 \n",
       "    4.85     4.98     5.00     5.00     5.00 \n",
       "\n",
       "lowest : 1    2    2.67 3    3.33, highest: 4.96 4.97 4.98 4.99 5   \n",
       "--------------------------------------------------------------------------------\n",
       "review_scores_communication \n",
       "       n  missing distinct     Info     Mean      Gmd      .05      .10 \n",
       "    4099     1301       95    0.837    4.882   0.1889     4.50     4.67 \n",
       "     .25      .50      .75      .90      .95 \n",
       "    4.88     5.00     5.00     5.00     5.00 \n",
       "\n",
       "lowest : 1    2    2.33 2.5  2.67, highest: 4.96 4.97 4.98 4.99 5   \n",
       "--------------------------------------------------------------------------------\n",
       "review_scores_location \n",
       "       n  missing distinct     Info     Mean      Gmd      .05      .10 \n",
       "    4099     1301       98    0.942    4.817   0.2484     4.33     4.50 \n",
       "     .25      .50      .75      .90      .95 \n",
       "    4.75     4.91     5.00     5.00     5.00 \n",
       "\n",
       "lowest : 1    2    2.33 3    3.2 , highest: 4.96 4.97 4.98 4.99 5   \n",
       "--------------------------------------------------------------------------------\n",
       "review_scores_value \n",
       "       n  missing distinct     Info     Mean      Gmd      .05      .10 \n",
       "    4099     1301      110    0.973    4.733   0.3193    4.000    4.418 \n",
       "     .25      .50      .75      .90      .95 \n",
       "   4.650    4.810    5.000    5.000    5.000 \n",
       "\n",
       "lowest : 1    2    2.33 2.5  2.67, highest: 4.95 4.96 4.97 4.98 5   \n",
       "--------------------------------------------------------------------------------\n",
       "instant_bookable \n",
       "       n  missing distinct \n",
       "    5400        0        2 \n",
       "                      \n",
       "Value          f     t\n",
       "Frequency   4682   718\n",
       "Proportion 0.867 0.133\n",
       "--------------------------------------------------------------------------------\n",
       "calculated_host_listings_count \n",
       "       n  missing distinct     Info     Mean      Gmd      .05      .10 \n",
       "    5400        0       21    0.574    3.984    5.446        1        1 \n",
       "     .25      .50      .75      .90      .95 \n",
       "       1        1        1        7       20 \n",
       "\n",
       "lowest :  1  2  3  4  5, highest: 35 41 42 48 60\n",
       "--------------------------------------------------------------------------------\n",
       "reviews_per_month \n",
       "       n  missing distinct     Info     Mean      Gmd      .05      .10 \n",
       "    4104     1296      560        1    1.228    1.532    0.050    0.080 \n",
       "     .25      .50      .75      .90      .95 \n",
       "   0.200    0.555    1.460    3.330    4.307 \n",
       "\n",
       "lowest : 0.01  0.02  0.03  0.04  0.05 , highest: 25.71 26.25 36.28 72.21 73.26\n",
       "--------------------------------------------------------------------------------</div>\n",
       "\t</body>\n",
       "</html>\n"
      ],
      "text/plain": [
       "Shiny tags cannot be represented in plain text (need html)"
      ]
     },
     "metadata": {
      "text/html": {
       "isolated": true
      }
     },
     "output_type": "display_data"
    }
   ],
   "source": [
    "output <- capture.output(describe(data))\n",
    "html_output <- tags$div(style = \"height: 400px; overflow-y: scroll; white-space: pre;\", paste(output, collapse = \"\\n\"))\n",
    "browsable(html_output)"
   ]
  },
  {
   "cell_type": "markdown",
   "metadata": {},
   "source": [
    "As we can see all of the data is as it is supposed to be. There are 41 columns and 5400 rows in this dataset. This means that this dataset contains 5400 listings."
   ]
  },
  {
   "cell_type": "markdown",
   "metadata": {},
   "source": [
    "#### Q1: Is there a correlation between location and price?"
   ]
  },
  {
   "cell_type": "markdown",
   "metadata": {},
   "source": [
    "We do this by using ANOVA test. My hypothesis is that there is a significant relationship between location and price at a 95% confidence level. This means that there is atleast a 95% chance of location affecting the price. 1380 observations were deleted due to them missing a value in the price column. "
   ]
  },
  {
   "cell_type": "code",
   "execution_count": 26,
   "metadata": {
    "vscode": {
     "languageId": "r"
    }
   },
   "outputs": [
    {
     "data": {
      "text/plain": [
       "                       Df    Sum Sq   Mean Sq F value Pr(>F)  \n",
       "neighbourhood_factor   13 1.545e+09 118883382   1.856 0.0303 *\n",
       "Residuals            4006 2.566e+11  64048182                 \n",
       "---\n",
       "Signif. codes:  0 '***' 0.001 '**' 0.01 '*' 0.05 '.' 0.1 ' ' 1\n",
       "1380 observations deleted due to missingness"
      ]
     },
     "metadata": {},
     "output_type": "display_data"
    }
   ],
   "source": [
    "data$neighbourhood_factor <- as.factor(data$neighbourhood)\n",
    "anova_result <- aov(price ~ neighbourhood_factor, data = data)\n",
    "summary(anova_result)"
   ]
  },
  {
   "cell_type": "markdown",
   "metadata": {},
   "source": [
    "As we can see from the results above, the P-value (0.0303) is lower than 0.05. This means that my hypothesis was correct. It is likely that the location affects price."
   ]
  },
  {
   "cell_type": "markdown",
   "metadata": {},
   "source": [
    "#### If so, how much does the location affect price. "
   ]
  },
  {
   "cell_type": "markdown",
   "metadata": {},
   "source": [
    "To see how much the location affects the prices, we can plot the locations by their mean prices as a bar chart."
   ]
  },
  {
   "cell_type": "code",
   "execution_count": 41,
   "metadata": {
    "vscode": {
     "languageId": "r"
    }
   },
   "outputs": [
    {
     "data": {
      "image/png": "[encoded data removed]",
      "text/plain": [
       "plot without title"
      ]
     },
     "metadata": {
      "image/png": {
       "height": 360,
       "width": 720
      }
     },
     "output_type": "display_data"
    }
   ],
   "source": [
    "average_price <- mean(data$price, na.rm = TRUE)\n",
    "\n",
    "mean_price_by_neighbourhood <- data %>%\n",
    "  group_by(neighbourhood_factor) %>%\n",
    "  summarise(price = mean(price, na.rm = TRUE), .groups = 'drop')\n",
    "\n",
    "ggplot(mean_price_by_neighbourhood, aes(x = neighbourhood_factor, y = price)) +\n",
    "  geom_bar(stat = \"identity\", fill = \"steelblue\") +  \n",
    "  labs(title = \"Mean Price by Neighborhood\", \n",
    "       x = \"Neighborhood\", \n",
    "       y = \"Mean Price (SEK)\") +\n",
    "  theme(axis.text.x = element_text(angle = 45, hjust = 1)) + \n",
    "  geom_hline(yintercept = average_price, linetype = \"dashed\", color = \"red\") +  \n",
    "  annotate(\"text\", x = 1, y = average_price + 100, \n",
    "           label = paste(\"Mean Price:\", round(average_price, 2)), \n",
    "           color = \"red\") "
   ]
  },
  {
   "cell_type": "markdown",
   "metadata": {},
   "source": [
    "From the plot above we can see that the price does in fact change between the locations, but the price difference is not great besides a few areas. The notable areas are Östermalms and Norrmalms as the expensive ones. Östermalms having a mean of almost 4000 SEK and Norrmalms around 2250 SEK. Rinkeby-Tensta and Skärholmens stand out as the cheapest areas. "
   ]
  },
  {
   "cell_type": "code",
   "execution_count": 42,
   "metadata": {
    "vscode": {
     "languageId": "r"
    }
   },
   "outputs": [
    {
     "data": {
      "image/png": "[encoded data removed]",
      "text/plain": [
       "plot without title"
      ]
     },
     "metadata": {
      "image/png": {
       "height": 360,
       "width": 720
      }
     },
     "output_type": "display_data"
    }
   ],
   "source": [
    "median_price <- median(data$price, na.rm = TRUE)\n",
    "\n",
    "median_price_by_neighbourhood <- data %>%\n",
    "  group_by(neighbourhood_factor) %>%\n",
    "  summarise(price = median(price, na.rm = TRUE), .groups = 'drop')\n",
    "\n",
    "ggplot(median_price_by_neighbourhood, aes(x = neighbourhood_factor, y = price)) +\n",
    "  geom_bar(stat = \"identity\", fill = \"steelblue\") +  \n",
    "  labs(title = \"Median Price by Neighborhood\", \n",
    "       x = \"Neighborhood\", \n",
    "       y = \"Median Price (SEK)\") +\n",
    "  theme(axis.text.x = element_text(angle = 45, hjust = 1)) + \n",
    "  geom_hline(yintercept = median_price, linetype = \"dashed\", color = \"red\") +  \n",
    "  annotate(\"text\", x = 1, y = median_price + 100, \n",
    "           label = paste(\"Median Price:\", round(median_price, 2)), \n",
    "           color = \"red\") "
   ]
  },
  {
   "cell_type": "markdown",
   "metadata": {},
   "source": [
    "As we can see, Östermalms is only the third most expensive based on its median price. This difference between the mean plot, is most likely due to some extremely high values skewing the average price of the area. Norrmalms still stands out as an expensive area compared to the rest. Södermalms appears to be the second most expensive area based on the median value, just slightly above Östremalms. Rinkeby-Tensta and Skärholmens are yet again the stand out cheaper areas.\n",
    "\n",
    "As we are on the topic of neighbourhoods, lets see which neighbourhoods have the most Airbnb listings."
   ]
  },
  {
   "cell_type": "code",
   "execution_count": 38,
   "metadata": {
    "vscode": {
     "languageId": "r"
    }
   },
   "outputs": [
    {
     "data": {
      "image/png": "[encoded data removed]",
      "text/plain": [
       "plot without title"
      ]
     },
     "metadata": {
      "image/png": {
       "height": 360,
       "width": 720
      }
     },
     "output_type": "display_data"
    }
   ],
   "source": [
    "count_data <- data %>%\n",
    "  group_by(neighbourhood_factor) %>%\n",
    "  summarise(count = n(), .groups = 'drop')\n",
    "\n",
    "average_count <- mean(count_data$count)\n",
    "\n",
    "ggplot(count_data, aes(x = neighbourhood_factor, y = count)) +\n",
    "  geom_bar(stat = \"identity\", fill = \"steelblue\") + \n",
    "  geom_hline(yintercept = average_count, linetype = \"dashed\", color = \"red\") + \n",
    "  labs(title = \"Count of Listings by Neighborhood with Average Count\", \n",
    "       x = \"Neighborhood\", \n",
    "       y = \"Count of Listings\") +\n",
    "  theme(axis.text.x = element_text(angle = 45, hjust = 1)) +\n",
    "  annotate(\"text\", x = 1, y = average_count + 5, \n",
    "           label = paste(\"Average:\", round(average_count, 2)), \n",
    "           color = \"red\")"
   ]
  },
  {
   "cell_type": "markdown",
   "metadata": {},
   "source": [
    "Södermalms stands far above the other neighbourhoods based on the count of listings. The average amount of listings in a neighbourhood is around 386, but as we can see, over half of the neighbourhoods are placed below the mean line. "
   ]
  },
  {
   "cell_type": "markdown",
   "metadata": {},
   "source": []
  }
 ],
 "metadata": {
  "kernelspec": {
   "display_name": "R",
   "language": "R",
   "name": "ir"
  },
  "language_info": {
   "codemirror_mode": "r",
   "file_extension": ".r",
   "mimetype": "text/x-r-source",
   "name": "R",
   "pygments_lexer": "r",
   "version": "4.4.1"
  }
 },
 "nbformat": 4,
 "nbformat_minor": 2
}
